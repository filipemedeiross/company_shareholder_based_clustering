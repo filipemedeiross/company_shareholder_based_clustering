{
 "cells": [
  {
   "cell_type": "markdown",
   "metadata": {},
   "source": [
    "# CONNECTED COMPONENT"
   ]
  },
  {
   "cell_type": "markdown",
   "metadata": {},
   "source": [
    "## PREPARING THE ENVIRONMENT"
   ]
  },
  {
   "cell_type": "markdown",
   "metadata": {},
   "source": [
    "Importing the libraries:"
   ]
  },
  {
   "cell_type": "code",
   "execution_count": 1,
   "metadata": {},
   "outputs": [],
   "source": [
    "import pickle\n",
    "\n",
    "from agnes import DisjointSet\n",
    "from collections import defaultdict"
   ]
  },
  {
   "cell_type": "markdown",
   "metadata": {},
   "source": [
    "Loading the data:"
   ]
  },
  {
   "cell_type": "code",
   "execution_count": 2,
   "metadata": {},
   "outputs": [
    {
     "name": "stdout",
     "output_type": "stream",
     "text": [
      "Quantidade de cnpjs = 14441622\n",
      "Quantidade de sócios = 14686766\n",
      "Quantidade de adjacencias = 14441622\n"
     ]
    }
   ],
   "source": [
    "with open('../data/cnpj2id.pkl'     , 'rb') as f:\n",
    "    cnpj2id = pickle.load(f)\n",
    "\n",
    "with open('../data/partner2id.pkl'  , 'rb') as f:\n",
    "    partner2id = pickle.load(f)\n",
    "\n",
    "with open('../data/adjacency.pkl'   , 'rb') as f:\n",
    "    adjacency = pickle.load(f)\n",
    "\n",
    "id2cnpj = {v : k for k, v in cnpj2id.items()}\n",
    "\n",
    "print('Quantidade de cnpjs =', len(cnpj2id))\n",
    "print('Quantidade de sócios =', len(partner2id))\n",
    "print('Quantidade de adjacencias =', len(adjacency))"
   ]
  },
  {
   "cell_type": "markdown",
   "metadata": {},
   "source": [
    "## CONNECTED COMPONENTS"
   ]
  },
  {
   "cell_type": "markdown",
   "metadata": {},
   "source": [
    "Separating the partners into disjoint joints based on their relationship in the corporate structure of companies:"
   ]
  },
  {
   "cell_type": "code",
   "execution_count": 3,
   "metadata": {},
   "outputs": [
    {
     "name": "stdout",
     "output_type": "stream",
     "text": [
      "Number of patners = 14686766\n"
     ]
    }
   ],
   "source": [
    "l = len(partner2id)\n",
    "\n",
    "print('Number of patners =', l)"
   ]
  },
  {
   "cell_type": "code",
   "execution_count": 4,
   "metadata": {},
   "outputs": [
    {
     "name": "stdout",
     "output_type": "stream",
     "text": [
      "Testing the first 10 disjoint sets:\n",
      "\n",
      "Vertex 0 = 0\n",
      "Vertex 1 = 1\n",
      "Vertex 2 = 2\n",
      "Vertex 3 = 3\n",
      "Vertex 4 = 4\n",
      "Vertex 5 = 5\n",
      "Vertex 6 = 6\n",
      "Vertex 7 = 7\n",
      "Vertex 8 = 8\n",
      "Vertex 9 = 9\n"
     ]
    }
   ],
   "source": [
    "fu = DisjointSet(l)\n",
    "\n",
    "print('Testing the first 10 disjoint sets:')\n",
    "print()\n",
    "for i in range(10):\n",
    "    print(f'Vertex {i} = {fu[i]}')"
   ]
  },
  {
   "cell_type": "code",
   "execution_count": 5,
   "metadata": {},
   "outputs": [
    {
     "name": "stdout",
     "output_type": "stream",
     "text": [
      "Testing the first 10 disjoint sets:\n",
      "\n",
      "Vertex 0 = 0\n",
      "Vertex 1 = 0\n",
      "Vertex 2 = 3985564\n",
      "Vertex 3 = 3985564\n",
      "Vertex 4 = 3228018\n",
      "Vertex 5 = 10511265\n",
      "Vertex 6 = 10511265\n",
      "Vertex 7 = 5116955\n",
      "Vertex 8 = 5116955\n",
      "Vertex 9 = 11760964\n"
     ]
    }
   ],
   "source": [
    "for u, *adj in adjacency:\n",
    "    for v in adj:\n",
    "        fu.union(u, v)\n",
    "\n",
    "print('Testing the first 10 disjoint sets:')\n",
    "print()\n",
    "for i in range(10):\n",
    "    print(f'Vertex {i} = {fu[i]}')"
   ]
  },
  {
   "cell_type": "markdown",
   "metadata": {},
   "source": [
    "Getting the connected components based on the disjoint sets of resources:\n",
    "\n",
    "> **Note**.: Ignoring connected components with a single vertex in the first independent set."
   ]
  },
  {
   "cell_type": "code",
   "execution_count": 6,
   "metadata": {},
   "outputs": [
    {
     "name": "stdout",
     "output_type": "stream",
     "text": [
      "Number of connected components = 6258661\n",
      "\n",
      "Number of basic CNPJs = 9759398\n",
      "Number with more than one vertex in the subgraph = 1576437\n"
     ]
    }
   ],
   "source": [
    "ds = defaultdict(list)\n",
    "\n",
    "for idx, (cc, *_) in enumerate(adjacency):\n",
    "    ds[fu[cc]].append(idx)\n",
    "\n",
    "components = [companies\n",
    "              for companies in ds.values()\n",
    "              if len(companies) > 1]\n",
    "\n",
    "print('Number of connected components =', len(ds))\n",
    "\n",
    "print()\n",
    "\n",
    "print('Number of basic CNPJs =', sum(map(len, components)))\n",
    "print('Number with more than one vertex in the subgraph =', len(components))"
   ]
  },
  {
   "cell_type": "markdown",
   "metadata": {},
   "source": [
    "Mapping cnpj to connected component and position in the component:"
   ]
  },
  {
   "cell_type": "code",
   "execution_count": 7,
   "metadata": {},
   "outputs": [],
   "source": [
    "del cnpj2id\n",
    "del partner2id\n",
    "del adjacency"
   ]
  },
  {
   "cell_type": "code",
   "execution_count": 8,
   "metadata": {},
   "outputs": [
    {
     "name": "stdout",
     "output_type": "stream",
     "text": [
      "Displaying the first five mappings:\n",
      "\n",
      "85061877 -> (0, 0)\n",
      "10739258 -> (0, 1)\n",
      "28815926 -> (0, 2)\n",
      "66013244 -> (0, 3)\n",
      "49252695 -> (0, 4)\n"
     ]
    }
   ],
   "source": [
    "cnpj2comp = dict()\n",
    "\n",
    "for idxcomp, comp in enumerate(components):\n",
    "    for idxemp, emp in enumerate(comp):\n",
    "        cnpj2comp[id2cnpj[emp]] = (idxcomp, idxemp)\n",
    "\n",
    "print('Displaying the first five mappings:')\n",
    "print()\n",
    "for i, (cnpj, map) in enumerate(cnpj2comp.items()):\n",
    "    if i == 5:\n",
    "        break\n",
    "\n",
    "    print(cnpj, '->', map)"
   ]
  },
  {
   "cell_type": "code",
   "execution_count": 9,
   "metadata": {},
   "outputs": [],
   "source": [
    "del id2cnpj"
   ]
  },
  {
   "cell_type": "markdown",
   "metadata": {},
   "source": [
    "## SAVING THE DATA"
   ]
  },
  {
   "cell_type": "markdown",
   "metadata": {},
   "source": [
    "Saving the data:"
   ]
  },
  {
   "cell_type": "code",
   "execution_count": 10,
   "metadata": {},
   "outputs": [],
   "source": [
    "with open('../data/components.pkl', 'wb') as f:\n",
    "    pickle.dump(components, f)\n",
    "\n",
    "del components\n",
    "\n",
    "with open('../data/cnpj2comp.pkl' , 'wb') as f:\n",
    "    pickle.dump(cnpj2comp, f)\n",
    "\n",
    "del cnpj2comp"
   ]
  }
 ],
 "metadata": {
  "kernelspec": {
   "display_name": "Python 3",
   "language": "python",
   "name": "python3"
  },
  "language_info": {
   "codemirror_mode": {
    "name": "ipython",
    "version": 3
   },
   "file_extension": ".py",
   "mimetype": "text/x-python",
   "name": "python",
   "nbconvert_exporter": "python",
   "pygments_lexer": "ipython3",
   "version": "3.12.8"
  }
 },
 "nbformat": 4,
 "nbformat_minor": 2
}
