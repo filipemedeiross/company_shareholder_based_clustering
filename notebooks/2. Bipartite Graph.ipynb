{
 "cells": [
  {
   "cell_type": "markdown",
   "metadata": {},
   "source": [
    "# BIPARTITE GRAPH"
   ]
  },
  {
   "cell_type": "markdown",
   "metadata": {},
   "source": [
    "## PREPARING THE ENVIRONMENT"
   ]
  },
  {
   "cell_type": "code",
   "execution_count": 1,
   "metadata": {},
   "outputs": [],
   "source": [
    "import csv\n",
    "import random\n",
    "import unittest\n",
    "import pandas as pd\n",
    "\n",
    "from pathlib     import Path\n",
    "from fastparquet import ParquetFile"
   ]
  },
  {
   "cell_type": "code",
   "execution_count": 2,
   "metadata": {},
   "outputs": [],
   "source": [
    "PARTNERS_PARQUET = '../data/parquet/partners.parquet'\n",
    "BUSINESS_PARQUET = '../data/parquet/business.parquet'"
   ]
  },
  {
   "cell_type": "code",
   "execution_count": 5,
   "metadata": {},
   "outputs": [
    {
     "data": {
      "text/html": [
       "<div>\n",
       "<style scoped>\n",
       "    .dataframe tbody tr th:only-of-type {\n",
       "        vertical-align: middle;\n",
       "    }\n",
       "\n",
       "    .dataframe tbody tr th {\n",
       "        vertical-align: top;\n",
       "    }\n",
       "\n",
       "    .dataframe thead th {\n",
       "        text-align: right;\n",
       "    }\n",
       "</style>\n",
       "<table border=\"1\" class=\"dataframe\">\n",
       "  <thead>\n",
       "    <tr style=\"text-align: right;\">\n",
       "      <th></th>\n",
       "      <th>cnpj</th>\n",
       "      <th>trade_name</th>\n",
       "      <th>closing_date</th>\n",
       "      <th>opening_date</th>\n",
       "      <th>cep</th>\n",
       "    </tr>\n",
       "  </thead>\n",
       "  <tbody>\n",
       "    <tr>\n",
       "      <th>0</th>\n",
       "      <td>36040517</td>\n",
       "      <td>None</td>\n",
       "      <td>20030407</td>\n",
       "      <td>19940510</td>\n",
       "      <td>29102040</td>\n",
       "    </tr>\n",
       "    <tr>\n",
       "      <th>1</th>\n",
       "      <td>18519374</td>\n",
       "      <td>ARKYS CONSULTORIA</td>\n",
       "      <td>20130719</td>\n",
       "      <td>20130719</td>\n",
       "      <td>9270430</td>\n",
       "    </tr>\n",
       "    <tr>\n",
       "      <th>2</th>\n",
       "      <td>40226211</td>\n",
       "      <td>None</td>\n",
       "      <td>20201230</td>\n",
       "      <td>20201230</td>\n",
       "      <td>38407225</td>\n",
       "    </tr>\n",
       "    <tr>\n",
       "      <th>3</th>\n",
       "      <td>18774161</td>\n",
       "      <td>CHEZ MARIE PANIFICADORA</td>\n",
       "      <td>20210308</td>\n",
       "      <td>20130829</td>\n",
       "      <td>77059044</td>\n",
       "    </tr>\n",
       "    <tr>\n",
       "      <th>4</th>\n",
       "      <td>43597524</td>\n",
       "      <td>J.V. CENTRO AUTOMOTIVO</td>\n",
       "      <td>20210921</td>\n",
       "      <td>20210921</td>\n",
       "      <td>9890060</td>\n",
       "    </tr>\n",
       "    <tr>\n",
       "      <th>5</th>\n",
       "      <td>46770387</td>\n",
       "      <td>POKOBAO PIZZARIA</td>\n",
       "      <td>20230213</td>\n",
       "      <td>20220613</td>\n",
       "      <td>13480002</td>\n",
       "    </tr>\n",
       "    <tr>\n",
       "      <th>6</th>\n",
       "      <td>51905771</td>\n",
       "      <td>None</td>\n",
       "      <td>20230822</td>\n",
       "      <td>20230822</td>\n",
       "      <td>11454540</td>\n",
       "    </tr>\n",
       "    <tr>\n",
       "      <th>7</th>\n",
       "      <td>56118619</td>\n",
       "      <td>None</td>\n",
       "      <td>20240728</td>\n",
       "      <td>20240728</td>\n",
       "      <td>32423290</td>\n",
       "    </tr>\n",
       "    <tr>\n",
       "      <th>8</th>\n",
       "      <td>57772591</td>\n",
       "      <td>None</td>\n",
       "      <td>20241021</td>\n",
       "      <td>20241021</td>\n",
       "      <td>35530000</td>\n",
       "    </tr>\n",
       "    <tr>\n",
       "      <th>9</th>\n",
       "      <td>56810538</td>\n",
       "      <td>None</td>\n",
       "      <td>20241231</td>\n",
       "      <td>20240815</td>\n",
       "      <td>39530000</td>\n",
       "    </tr>\n",
       "  </tbody>\n",
       "</table>\n",
       "</div>"
      ],
      "text/plain": [
       "       cnpj               trade_name  closing_date  opening_date       cep\n",
       "0  36040517                     None      20030407      19940510  29102040\n",
       "1  18519374        ARKYS CONSULTORIA      20130719      20130719   9270430\n",
       "2  40226211                     None      20201230      20201230  38407225\n",
       "3  18774161  CHEZ MARIE PANIFICADORA      20210308      20130829  77059044\n",
       "4  43597524   J.V. CENTRO AUTOMOTIVO      20210921      20210921   9890060\n",
       "5  46770387         POKOBAO PIZZARIA      20230213      20220613  13480002\n",
       "6  51905771                     None      20230822      20230822  11454540\n",
       "7  56118619                     None      20240728      20240728  32423290\n",
       "8  57772591                     None      20241021      20241021  35530000\n",
       "9  56810538                     None      20241231      20240815  39530000"
      ]
     },
     "execution_count": 5,
     "metadata": {},
     "output_type": "execute_result"
    }
   ],
   "source": [
    "def get_sample_from_parquet(filename, n=10):\n",
    "    samples = []\n",
    "\n",
    "    with open(filename, mode='rb') as f:\n",
    "        pf   = ParquetFile(f)\n",
    "        idxs = sorted(random.sample(range(pf.count()), n))\n",
    "\n",
    "        current_row = 0\n",
    "        for rg in pf.iter_row_groups():\n",
    "            num_rows = len(rg)\n",
    "\n",
    "            local_indices = [\n",
    "                i - current_row\n",
    "                for i in idxs\n",
    "                if current_row <= i < current_row + num_rows\n",
    "            ]\n",
    "\n",
    "            if local_indices:\n",
    "                samples.append(rg.iloc[local_indices])\n",
    "\n",
    "            current_row += num_rows\n",
    "            if current_row > idxs[-1]:\n",
    "                break\n",
    "\n",
    "    return pd.concat(samples, ignore_index=True)\n",
    "\n",
    "\n",
    "sample = get_sample_from_parquet(BUSINESS_PARQUET)\n",
    "sample"
   ]
  },
  {
   "cell_type": "code",
   "execution_count": 7,
   "metadata": {},
   "outputs": [
    {
     "ename": "AttributeError",
     "evalue": "'list' object has no attribute 'cnpj'",
     "output_type": "error",
     "traceback": [
      "\u001b[31m---------------------------------------------------------------------------\u001b[39m",
      "\u001b[31mAttributeError\u001b[39m                            Traceback (most recent call last)",
      "\u001b[36mCell\u001b[39m\u001b[36m \u001b[39m\u001b[32mIn[7]\u001b[39m\u001b[32m, line 39\u001b[39m\n\u001b[32m     32\u001b[39m ESTABELECIMENTOS_PATH = [\n\u001b[32m     33\u001b[39m     \u001b[33mf\u001b[39m\u001b[33m'\u001b[39m\u001b[33m../data/csv/estabelecimentos/estabelecimentos\u001b[39m\u001b[38;5;132;01m{\u001b[39;00mi\u001b[38;5;132;01m}\u001b[39;00m\u001b[33m.csv\u001b[39m\u001b[33m'\u001b[39m\n\u001b[32m     34\u001b[39m     \u001b[38;5;28;01mfor\u001b[39;00m i \u001b[38;5;129;01min\u001b[39;00m \u001b[38;5;28mrange\u001b[39m(\u001b[32m10\u001b[39m)\n\u001b[32m     35\u001b[39m ]\n\u001b[32m     38\u001b[39m \u001b[38;5;28;01mfor\u001b[39;00m _, row \u001b[38;5;129;01min\u001b[39;00m sample.iterrows():\n\u001b[32m---> \u001b[39m\u001b[32m39\u001b[39m     found = \u001b[43mfind_row_business\u001b[49m\u001b[43m(\u001b[49m\n\u001b[32m     40\u001b[39m \u001b[43m        \u001b[49m\u001b[43mESTABELECIMENTOS_PATH\u001b[49m\u001b[43m,\u001b[49m\n\u001b[32m     41\u001b[39m \u001b[43m        \u001b[49m\u001b[43mESTABELECIMENTOS_COLS\u001b[49m\u001b[43m,\u001b[49m\n\u001b[32m     42\u001b[39m \u001b[43m        \u001b[49m\u001b[43mCNPJ_COL\u001b[49m\u001b[43m             \u001b[49m\u001b[43m,\u001b[49m\n\u001b[32m     43\u001b[39m \u001b[43m        \u001b[49m\u001b[43mCLOSING_COL\u001b[49m\u001b[43m          \u001b[49m\u001b[43m,\u001b[49m\n\u001b[32m     44\u001b[39m \u001b[43m        \u001b[49m\u001b[43mOPENING_COL\u001b[49m\u001b[43m          \u001b[49m\u001b[43m,\u001b[49m\n\u001b[32m     45\u001b[39m \u001b[43m        \u001b[49m\u001b[43mrow\u001b[49m\u001b[43m                  \u001b[49m\u001b[43m,\u001b[49m\n\u001b[32m     46\u001b[39m \u001b[43m    \u001b[49m\u001b[43m)\u001b[49m\n\u001b[32m     48\u001b[39m     cnpj, trade_name, closing, opening, cep = row\n\u001b[32m     49\u001b[39m     \u001b[38;5;28;01mif\u001b[39;00m found:\n",
      "\u001b[36mCell\u001b[39m\u001b[36m \u001b[39m\u001b[32mIn[7]\u001b[39m\u001b[32m, line 18\u001b[39m, in \u001b[36mfind_row_business\u001b[39m\u001b[34m(files, cols, cnpj_col, closing_col, opening_col, row)\u001b[39m\n\u001b[32m     14\u001b[39m             \u001b[38;5;28;01mif\u001b[39;00m \u001b[38;5;129;01mnot\u001b[39;00m row:\n\u001b[32m     15\u001b[39m                 \u001b[38;5;28;01mcontinue\u001b[39;00m\n\u001b[32m     17\u001b[39m             \u001b[38;5;28;01mif\u001b[39;00m (\n\u001b[32m---> \u001b[39m\u001b[32m18\u001b[39m                 \u001b[38;5;28mint\u001b[39m(row[cnpj_col    ]) == \u001b[43mrow\u001b[49m\u001b[43m.\u001b[49m\u001b[43mcnpj\u001b[49m         \u001b[38;5;129;01mand\u001b[39;00m\n\u001b[32m     19\u001b[39m                 \u001b[38;5;28mint\u001b[39m(row[closing_col ]) == row.closing_date \u001b[38;5;129;01mand\u001b[39;00m\n\u001b[32m     20\u001b[39m                 \u001b[38;5;28mint\u001b[39m(row[opening_col ]) == row.opening_date\n\u001b[32m     21\u001b[39m             ):\n\u001b[32m     22\u001b[39m                 \u001b[38;5;28;01mreturn\u001b[39;00m [row[idx] \u001b[38;5;28;01mfor\u001b[39;00m idx \u001b[38;5;129;01min\u001b[39;00m cols]\n\u001b[32m     24\u001b[39m \u001b[38;5;28;01mreturn\u001b[39;00m \u001b[38;5;28;01mNone\u001b[39;00m\n",
      "\u001b[31mAttributeError\u001b[39m: 'list' object has no attribute 'cnpj'"
     ]
    }
   ],
   "source": [
    "def find_row_business(\n",
    "    files       ,\n",
    "    cols        ,\n",
    "    cnpj_col    ,\n",
    "    closing_col ,\n",
    "    opening_col ,\n",
    "    row         ,\n",
    "):\n",
    "    for csv_path in files:\n",
    "        with open(csv_path, encoding=\"latin-1\", newline='') as f:\n",
    "            reader = csv.reader(f, delimiter=';', quotechar='\"')\n",
    "\n",
    "            for row in reader:\n",
    "                if not row:\n",
    "                    continue\n",
    "\n",
    "                if (\n",
    "                    int(row[cnpj_col    ]) == row.cnpj         and\n",
    "                    int(row[closing_col ]) == row.closing_date and\n",
    "                    int(row[opening_col ]) == row.opening_date\n",
    "                ):\n",
    "                    return [row[idx] for idx in cols]\n",
    "\n",
    "    return None\n",
    "\n",
    "\n",
    "ESTABELECIMENTOS_COLS = [0, 4, 6, 10, 18]\n",
    "CNPJ_COL    = 0\n",
    "CLOSING_COL = 6\n",
    "OPENING_COL = 10\n",
    "\n",
    "ESTABELECIMENTOS_PATH = [\n",
    "    f'../data/csv/estabelecimentos/estabelecimentos{i}.csv'\n",
    "    for i in range(10)\n",
    "]\n",
    "\n",
    "\n",
    "for _, row in sample.iterrows():\n",
    "    found = find_row_business(\n",
    "        ESTABELECIMENTOS_PATH,\n",
    "        ESTABELECIMENTOS_COLS,\n",
    "        CNPJ_COL             ,\n",
    "        CLOSING_COL          ,\n",
    "        OPENING_COL          ,\n",
    "        row                  ,\n",
    "    )\n",
    "\n",
    "    cnpj, trade_name, closing, opening, cep = row\n",
    "    if found:\n",
    "        print(\n",
    "            f\"✅ Found match:\\n\"\n",
    "            f\"Parquet:     {cnpj}, {trade_name}, {closing}, {opening}, {cep}\\n\"\n",
    "            f\"CSV Match:   {found[0]}, {found[1]}, {found[2]}, {found[3]}, {found[4]}\"\n",
    "        )"
   ]
  },
  {
   "cell_type": "code",
   "execution_count": null,
   "metadata": {},
   "outputs": [],
   "source": []
  },
  {
   "cell_type": "code",
   "execution_count": null,
   "metadata": {},
   "outputs": [],
   "source": [
    "\n",
    "\n",
    "\n",
    "\n",
    "\n",
    "\n",
    "    def find_row_partners(\n",
    "        self    ,\n",
    "        files   ,\n",
    "        cols    ,\n",
    "        cnpj_col,\n",
    "        name_col,\n",
    "        target  ,\n",
    "    ):\n",
    "        for csv_path in files:\n",
    "            with open(csv_path, encoding=\"latin-1\", newline='') as f:\n",
    "                reader = csv.reader(f, delimiter=';', quotechar='\"')\n",
    "\n",
    "                for row in reader:\n",
    "                    if not row:\n",
    "                        continue\n",
    "\n",
    "                    if (\n",
    "                        int(row[cnpj_col]) == target.cnpj and\n",
    "                            row[name_col]  == target.name_partner\n",
    "                    ):\n",
    "                        return [row[idx] for idx in cols]\n",
    "\n",
    "        return None\n",
    "\n",
    "\n",
    "\n",
    "\n",
    "\n",
    "    def test_partners_parquet_contains_csv_data(self):\n",
    "        CNPJ_COL, NAME_COL, _ = SOCIOS_COLS = [0, 2, 5]\n",
    "        SOCIOS_PATH = [\n",
    "            self.ROOT_DIR / f'data/csv/socios/socios{i}.csv'\n",
    "            for i in range(10)\n",
    "        ]\n",
    "\n",
    "        sample = self.get_sample_from_parquet(self.PARTNERS_PARQUET)\n",
    "\n",
    "        for _, row in sample.iterrows():\n",
    "            found = self.find_row_partners(\n",
    "                SOCIOS_PATH,\n",
    "                SOCIOS_COLS,\n",
    "                CNPJ_COL   ,\n",
    "                NAME_COL   ,\n",
    "                row        ,\n",
    "            )\n",
    "\n",
    "            cnpj, name, start_date = row\n",
    "            with self.subTest(\n",
    "                cnpj=cnpj       ,\n",
    "                partner=name    ,\n",
    "                start=start_date,\n",
    "            ):\n",
    "                if found:\n",
    "                    print(\n",
    "                        f\"✅ Found match:\\n\"\n",
    "                        f\"Parquet:     {cnpj}, {name}, {start_date}\\n\"\n",
    "                        f\"CSV Match:   {found[0]}, {found[1]}, {found[2]}\"\n",
    "                    )\n",
    "                else:\n",
    "                    self.fail(\n",
    "                        f\"❌ CNPJ {cnpj} from parquet not found in any socios[0-9].csv file.\"\n",
    "                    )\n",
    "\n",
    "\n",
    "    def test_business_parquet_contains_csv_data(self):\n",
    "        \n",
    "\n",
    "\n",
    "if __name__ == '__main__':\n",
    "    unittest.main()\n"
   ]
  },
  {
   "cell_type": "code",
   "execution_count": 1,
   "metadata": {},
   "outputs": [],
   "source": [
    "import csv\n",
    "import random\n",
    "import unittest\n",
    "import pandas as pd\n",
    "\n",
    "from pathlib     import Path\n",
    "from fastparquet import ParquetFile"
   ]
  },
  {
   "cell_type": "code",
   "execution_count": 2,
   "metadata": {},
   "outputs": [],
   "source": [
    "PARTNERS_PARQUET = '../data/parquet/partners.parquet'\n",
    "BUSINESS_PARQUET = '../data/parquet/business.parquet'"
   ]
  },
  {
   "cell_type": "code",
   "execution_count": 4,
   "metadata": {},
   "outputs": [
    {
     "data": {
      "text/html": [
       "<div>\n",
       "<style scoped>\n",
       "    .dataframe tbody tr th:only-of-type {\n",
       "        vertical-align: middle;\n",
       "    }\n",
       "\n",
       "    .dataframe tbody tr th {\n",
       "        vertical-align: top;\n",
       "    }\n",
       "\n",
       "    .dataframe thead th {\n",
       "        text-align: right;\n",
       "    }\n",
       "</style>\n",
       "<table border=\"1\" class=\"dataframe\">\n",
       "  <thead>\n",
       "    <tr style=\"text-align: right;\">\n",
       "      <th></th>\n",
       "      <th>cnpj</th>\n",
       "      <th>name_partner</th>\n",
       "      <th>start_date</th>\n",
       "    </tr>\n",
       "  </thead>\n",
       "  <tbody>\n",
       "    <tr>\n",
       "      <th>346870</th>\n",
       "      <td>56819642</td>\n",
       "      <td>JOAO GASPAR</td>\n",
       "      <td>19861127</td>\n",
       "    </tr>\n",
       "    <tr>\n",
       "      <th>583620</th>\n",
       "      <td>4269158</td>\n",
       "      <td>MARIA DE JESUS DINIZ</td>\n",
       "      <td>20010129</td>\n",
       "    </tr>\n",
       "    <tr>\n",
       "      <th>796173</th>\n",
       "      <td>5777808</td>\n",
       "      <td>CLEIDE DA SILVA LIMA FERNANDES</td>\n",
       "      <td>20030715</td>\n",
       "    </tr>\n",
       "    <tr>\n",
       "      <th>523723</th>\n",
       "      <td>7776979</td>\n",
       "      <td>RICARDO ELOI DOS REIS</td>\n",
       "      <td>20051227</td>\n",
       "    </tr>\n",
       "    <tr>\n",
       "      <th>996263</th>\n",
       "      <td>8382971</td>\n",
       "      <td>FABIO SOARES REIS</td>\n",
       "      <td>20061004</td>\n",
       "    </tr>\n",
       "    <tr>\n",
       "      <th>248040</th>\n",
       "      <td>10374368</td>\n",
       "      <td>JOAO BOSCO PERES LOPES</td>\n",
       "      <td>20080925</td>\n",
       "    </tr>\n",
       "    <tr>\n",
       "      <th>691613</th>\n",
       "      <td>27613130</td>\n",
       "      <td>JOAO LUCAS RODRIGUES BANHOS</td>\n",
       "      <td>20200429</td>\n",
       "    </tr>\n",
       "    <tr>\n",
       "      <th>48857</th>\n",
       "      <td>38904406</td>\n",
       "      <td>ANDRE DE SOUZA NASCIMENTO</td>\n",
       "      <td>20200925</td>\n",
       "    </tr>\n",
       "    <tr>\n",
       "      <th>792047</th>\n",
       "      <td>35364915</td>\n",
       "      <td>ROGERIO DE SOUZA FURTADO</td>\n",
       "      <td>20221013</td>\n",
       "    </tr>\n",
       "    <tr>\n",
       "      <th>171222</th>\n",
       "      <td>25477090</td>\n",
       "      <td>PAULA LOYOLA SILVA DORNELLAS</td>\n",
       "      <td>20240927</td>\n",
       "    </tr>\n",
       "  </tbody>\n",
       "</table>\n",
       "</div>"
      ],
      "text/plain": [
       "            cnpj                    name_partner  start_date\n",
       "346870  56819642                     JOAO GASPAR    19861127\n",
       "583620   4269158            MARIA DE JESUS DINIZ    20010129\n",
       "796173   5777808  CLEIDE DA SILVA LIMA FERNANDES    20030715\n",
       "523723   7776979           RICARDO ELOI DOS REIS    20051227\n",
       "996263   8382971               FABIO SOARES REIS    20061004\n",
       "248040  10374368          JOAO BOSCO PERES LOPES    20080925\n",
       "691613  27613130     JOAO LUCAS RODRIGUES BANHOS    20200429\n",
       "48857   38904406       ANDRE DE SOUZA NASCIMENTO    20200925\n",
       "792047  35364915        ROGERIO DE SOUZA FURTADO    20221013\n",
       "171222  25477090    PAULA LOYOLA SILVA DORNELLAS    20240927"
      ]
     },
     "execution_count": 4,
     "metadata": {},
     "output_type": "execute_result"
    }
   ],
   "source": [
    "def get_sample_from_parquet(filename, n=10):\n",
    "    samples = []\n",
    "\n",
    "    with open(filename, mode='rb') as f:\n",
    "        pf = ParquetFile(f)\n",
    "\n",
    "        idxs = sorted(random.sample(range(pf.count()), n))\n",
    "\n",
    "        current_row = 0\n",
    "        for rg in pf.iter_row_groups():\n",
    "            num_rows = len(rg)\n",
    "\n",
    "            local_indices = [\n",
    "                i - current_row\n",
    "                for i in idxs\n",
    "                if current_row <= i < current_row + num_rows\n",
    "            ]\n",
    "\n",
    "            if local_indices:\n",
    "                samples.append(rg.iloc[local_indices])\n",
    "\n",
    "            current_row += num_rows\n",
    "            if current_row > idxs[-1]:\n",
    "                break\n",
    "\n",
    "    return pd.concat(samples)\n",
    "\n",
    "SOCIOS_COLS = [0, 2, 5]\n",
    "SOCIOS_PATH = [\n",
    "    f'../data/csv/socios/socios{i}.csv'\n",
    "    for i in range(10)\n",
    "]\n",
    "\n",
    "sample = get_sample_from_parquet(PARTNERS_PARQUET)\n",
    "sample"
   ]
  },
  {
   "cell_type": "code",
   "execution_count": null,
   "metadata": {},
   "outputs": [
    {
     "name": "stdout",
     "output_type": "stream",
     "text": [
      "cnpj               56819642\n",
      "name_partner    JOAO GASPAR\n",
      "start_date         19861127\n",
      "Name: 346870, dtype: object\n",
      "['56819642', 'JOAO GASPAR', '19861127']\n"
     ]
    },
    {
     "ename": "KeyboardInterrupt",
     "evalue": "",
     "output_type": "error",
     "traceback": [
      "\u001b[31m---------------------------------------------------------------------------\u001b[39m",
      "\u001b[31mKeyboardInterrupt\u001b[39m                         Traceback (most recent call last)",
      "\u001b[36mCell\u001b[39m\u001b[36m \u001b[39m\u001b[32mIn[31]\u001b[39m\u001b[32m, line 21\u001b[39m\n\u001b[32m     18\u001b[39m     \u001b[38;5;28;01mreturn\u001b[39;00m \u001b[38;5;28;01mNone\u001b[39;00m\n\u001b[32m     20\u001b[39m \u001b[38;5;28;01mfor\u001b[39;00m _, row \u001b[38;5;129;01min\u001b[39;00m sample.iterrows():\n\u001b[32m---> \u001b[39m\u001b[32m21\u001b[39m     row_found = \u001b[43mfind_row\u001b[49m\u001b[43m(\u001b[49m\n\u001b[32m     22\u001b[39m \u001b[43m        \u001b[49m\u001b[43mSOCIOS_PATH\u001b[49m\u001b[43m,\u001b[49m\n\u001b[32m     23\u001b[39m \u001b[43m        \u001b[49m\u001b[43mSOCIOS_COLS\u001b[49m\u001b[43m,\u001b[49m\n\u001b[32m     24\u001b[39m \u001b[43m        \u001b[49m\u001b[43mrow\u001b[49m\n\u001b[32m     25\u001b[39m \u001b[43m    \u001b[49m\u001b[43m)\u001b[49m\n\u001b[32m     27\u001b[39m     \u001b[38;5;28mprint\u001b[39m(row)\n\u001b[32m     28\u001b[39m     \u001b[38;5;28mprint\u001b[39m(row_found)\n",
      "\u001b[36mCell\u001b[39m\u001b[36m \u001b[39m\u001b[32mIn[31]\u001b[39m\u001b[32m, line 6\u001b[39m, in \u001b[36mfind_row\u001b[39m\u001b[34m(files, idxs, arg)\u001b[39m\n\u001b[32m      3\u001b[39m \u001b[38;5;28;01mwith\u001b[39;00m \u001b[38;5;28mopen\u001b[39m(csv_path, encoding=\u001b[33m\"\u001b[39m\u001b[33mlatin-1\u001b[39m\u001b[33m\"\u001b[39m, newline=\u001b[33m'\u001b[39m\u001b[33m'\u001b[39m) \u001b[38;5;28;01mas\u001b[39;00m f:\n\u001b[32m      4\u001b[39m     reader = csv.reader(f, delimiter=\u001b[33m'\u001b[39m\u001b[33m;\u001b[39m\u001b[33m'\u001b[39m, quotechar=\u001b[33m'\u001b[39m\u001b[33m\"\u001b[39m\u001b[33m'\u001b[39m)\n\u001b[32m----> \u001b[39m\u001b[32m6\u001b[39m \u001b[43m    \u001b[49m\u001b[38;5;28;43;01mfor\u001b[39;49;00m\u001b[43m \u001b[49m\u001b[43mrow\u001b[49m\u001b[43m \u001b[49m\u001b[38;5;129;43;01min\u001b[39;49;00m\u001b[43m \u001b[49m\u001b[43mreader\u001b[49m\u001b[43m:\u001b[49m\n\u001b[32m      7\u001b[39m \u001b[43m        \u001b[49m\u001b[38;5;28;43;01mif\u001b[39;49;00m\u001b[43m \u001b[49m\u001b[38;5;129;43;01mnot\u001b[39;49;00m\u001b[43m \u001b[49m\u001b[43mrow\u001b[49m\u001b[43m:\u001b[49m\n\u001b[32m      8\u001b[39m \u001b[43m            \u001b[49m\u001b[38;5;28;43;01mcontinue\u001b[39;49;00m\n",
      "\u001b[36mFile \u001b[39m\u001b[32m~\\AppData\\Local\\Programs\\Python\\Python313\\Lib\\encodings\\latin_1.py:25\u001b[39m, in \u001b[36mIncrementalDecoder.decode\u001b[39m\u001b[34m(self, input, final)\u001b[39m\n\u001b[32m     24\u001b[39m \u001b[38;5;28;01mclass\u001b[39;00m\u001b[38;5;250m \u001b[39m\u001b[34;01mIncrementalDecoder\u001b[39;00m(codecs.IncrementalDecoder):\n\u001b[32m---> \u001b[39m\u001b[32m25\u001b[39m     \u001b[38;5;28;01mdef\u001b[39;00m\u001b[38;5;250m \u001b[39m\u001b[34mdecode\u001b[39m(\u001b[38;5;28mself\u001b[39m, \u001b[38;5;28minput\u001b[39m, final=\u001b[38;5;28;01mFalse\u001b[39;00m):\n\u001b[32m     26\u001b[39m         \u001b[38;5;28;01mreturn\u001b[39;00m codecs.latin_1_decode(\u001b[38;5;28minput\u001b[39m,\u001b[38;5;28mself\u001b[39m.errors)[\u001b[32m0\u001b[39m]\n",
      "\u001b[31mKeyboardInterrupt\u001b[39m: "
     ]
    }
   ],
   "source": [
    "\n",
    "\n",
    "for _, row in sample.iterrows():\n",
    "    row_found = find_row(\n",
    "        SOCIOS_PATH,\n",
    "        SOCIOS_COLS,\n",
    "        row\n",
    "    )\n",
    "\n",
    "    print(row)\n",
    "    print(row_found)"
   ]
  },
  {
   "cell_type": "code",
   "execution_count": 28,
   "metadata": {},
   "outputs": [
    {
     "data": {
      "text/plain": [
       "['56819642', 'JOAO GASPAR', '19861127']"
      ]
     },
     "execution_count": 28,
     "metadata": {},
     "output_type": "execute_result"
    }
   ],
   "source": [
    "row_list = ['56819642', 'JOAO GASPAR', '19861127']\n",
    "row_list"
   ]
  },
  {
   "cell_type": "code",
   "execution_count": 30,
   "metadata": {},
   "outputs": [
    {
     "data": {
      "text/plain": [
       "True"
      ]
     },
     "execution_count": 30,
     "metadata": {},
     "output_type": "execute_result"
    }
   ],
   "source": [
    "all(str(u) == v for u, v in zip(row, row_list))"
   ]
  },
  {
   "cell_type": "code",
   "execution_count": 20,
   "metadata": {},
   "outputs": [
    {
     "data": {
      "text/plain": [
       "cnpj               56819642\n",
       "name_partner    JOAO GASPAR\n",
       "start_date         19861127\n",
       "Name: 346870, dtype: object"
      ]
     },
     "execution_count": 20,
     "metadata": {},
     "output_type": "execute_result"
    }
   ],
   "source": [
    "row"
   ]
  },
  {
   "cell_type": "code",
   "execution_count": 15,
   "metadata": {},
   "outputs": [
    {
     "data": {
      "text/plain": [
       "pandas.core.series.Series"
      ]
     },
     "execution_count": 15,
     "metadata": {},
     "output_type": "execute_result"
    }
   ],
   "source": [
    "type(row)"
   ]
  },
  {
   "cell_type": "code",
   "execution_count": null,
   "metadata": {},
   "outputs": [],
   "source": [
    "\n",
    "\n",
    "\n",
    "def test_partners_parquet_contains_csv_data(self):\n",
    "\n",
    "\n",
    "\n",
    "\n",
    "        with self.subTest(cnpj=row[0], partner=row[1], start=row[2]):\n",
    "            if row_found:\n",
    "                print(\n",
    "                    f\"✅ Found match:\\nParquet:     {row[0]}, {row[1]}, {row[2]}\\nCSV Match:   {row_found[0]}, {row_found[1]}, {row_found[2]}\"\n",
    "                )\n",
    "            else:\n",
    "                self.fail(\n",
    "                    f\"❌ CNPJ {row[0]} from parquet not found in any socios[0-9].csv file.\"\n",
    "                )\n",
    "\n",
    "    del sample\n",
    "\n",
    "\n",
    "\n",
    "\n",
    "\n",
    "if __name__ == '__main__':\n",
    "    unittest.main()\n"
   ]
  },
  {
   "cell_type": "code",
   "execution_count": null,
   "metadata": {},
   "outputs": [],
   "source": []
  },
  {
   "cell_type": "code",
   "execution_count": 20,
   "metadata": {},
   "outputs": [],
   "source": [
    "import numpy as np\n",
    "from fastparquet import ParquetFile\n",
    "import random"
   ]
  },
  {
   "cell_type": "code",
   "execution_count": 36,
   "metadata": {},
   "outputs": [],
   "source": [
    "pf = ParquetFile('../data/parquet/partners.parquet')\n",
    "nrows = pf.count()\n",
    "indices = sorted(random.sample(range(nrows), 10))\n",
    "\n"
   ]
  },
  {
   "cell_type": "code",
   "execution_count": 42,
   "metadata": {},
   "outputs": [
    {
     "ename": "TypeError",
     "evalue": "'ParquetFile' object is not callable",
     "output_type": "error",
     "traceback": [
      "\u001b[31m---------------------------------------------------------------------------\u001b[39m",
      "\u001b[31mTypeError\u001b[39m                                 Traceback (most recent call last)",
      "\u001b[36mCell\u001b[39m\u001b[36m \u001b[39m\u001b[32mIn[42]\u001b[39m\u001b[32m, line 1\u001b[39m\n\u001b[32m----> \u001b[39m\u001b[32m1\u001b[39m \u001b[43mpf\u001b[49m\u001b[43m(\u001b[49m\u001b[32;43m0\u001b[39;49m\u001b[43m)\u001b[49m\n",
      "\u001b[31mTypeError\u001b[39m: 'ParquetFile' object is not callable"
     ]
    }
   ],
   "source": [
    "pf(0)"
   ]
  },
  {
   "cell_type": "code",
   "execution_count": null,
   "metadata": {},
   "outputs": [
    {
     "name": "stdout",
     "output_type": "stream",
     "text": [
      "            cnpj                          name_partner  start_date\n",
      "789393   2060982                          VALDECI JOSE    19970822\n",
      "307257   3949204                      SIDNEI DEICHMANN    20000717\n",
      "399650  61198370                KRISTIAN SALERMO MOTTA    20020909\n",
      "219027   6339764                   LUCIO CORREA JUNIOR    20040616\n",
      "748718   9300338             NICOLAS JEAN KOURKOUNAKIS    20071207\n",
      "304142  14239350  SIRLENE SILVERIO PEREIRA CONTESSOTTO    20110825\n",
      "270320  14078181  JUSSARA OLIVEIRA DA COSTA NASCIMENTO    20130109\n",
      "418935  20845512      ANTONIA MARIA GONZAGA DE CAMARGO    20140815\n",
      "569090  27810268            HARYELL DA SILVA GUIMARAES    20210301\n",
      "190178  59962718       EDUARDO GONCALVES DO NASCIMENTO    20250318\n"
     ]
    }
   ],
   "source": []
  },
  {
   "cell_type": "code",
   "execution_count": null,
   "metadata": {},
   "outputs": [
    {
     "data": {
      "text/plain": [
       "[475077,\n",
       " 5146456,\n",
       " 6773234,\n",
       " 7204000,\n",
       " 8040775,\n",
       " 9856221,\n",
       " 14816320,\n",
       " 15612844,\n",
       " 21252996,\n",
       " 22885277]"
      ]
     },
     "execution_count": 13,
     "metadata": {},
     "output_type": "execute_result"
    }
   ],
   "source": []
  },
  {
   "cell_type": "code",
   "execution_count": null,
   "metadata": {},
   "outputs": [],
   "source": []
  },
  {
   "cell_type": "code",
   "execution_count": null,
   "metadata": {},
   "outputs": [
    {
     "data": {
      "text/html": [
       "<div>\n",
       "<style scoped>\n",
       "    .dataframe tbody tr th:only-of-type {\n",
       "        vertical-align: middle;\n",
       "    }\n",
       "\n",
       "    .dataframe tbody tr th {\n",
       "        vertical-align: top;\n",
       "    }\n",
       "\n",
       "    .dataframe thead th {\n",
       "        text-align: right;\n",
       "    }\n",
       "</style>\n",
       "<table border=\"1\" class=\"dataframe\">\n",
       "  <thead>\n",
       "    <tr style=\"text-align: right;\">\n",
       "      <th></th>\n",
       "      <th>cnpj</th>\n",
       "      <th>name_partner</th>\n",
       "      <th>start_date</th>\n",
       "    </tr>\n",
       "  </thead>\n",
       "  <tbody>\n",
       "    <tr>\n",
       "      <th>0</th>\n",
       "      <td>4128860</td>\n",
       "      <td>None</td>\n",
       "      <td>19890103</td>\n",
       "    </tr>\n",
       "    <tr>\n",
       "      <th>1</th>\n",
       "      <td>6029375</td>\n",
       "      <td>None</td>\n",
       "      <td>6357060</td>\n",
       "    </tr>\n",
       "    <tr>\n",
       "      <th>2</th>\n",
       "      <td>3801155</td>\n",
       "      <td>None</td>\n",
       "      <td>20051128</td>\n",
       "    </tr>\n",
       "    <tr>\n",
       "      <th>3</th>\n",
       "      <td>5570652</td>\n",
       "      <td>None</td>\n",
       "      <td>20060821</td>\n",
       "    </tr>\n",
       "    <tr>\n",
       "      <th>4</th>\n",
       "      <td>6619251</td>\n",
       "      <td>None</td>\n",
       "      <td>20071112</td>\n",
       "    </tr>\n",
       "    <tr>\n",
       "      <th>5</th>\n",
       "      <td>7536754</td>\n",
       "      <td>None</td>\n",
       "      <td>20100616</td>\n",
       "    </tr>\n",
       "    <tr>\n",
       "      <th>6</th>\n",
       "      <td>27191464</td>\n",
       "      <td>None</td>\n",
       "      <td>20170224</td>\n",
       "    </tr>\n",
       "    <tr>\n",
       "      <th>7</th>\n",
       "      <td>7077993</td>\n",
       "      <td>None</td>\n",
       "      <td>20180315</td>\n",
       "    </tr>\n",
       "    <tr>\n",
       "      <th>8</th>\n",
       "      <td>49691763</td>\n",
       "      <td>None</td>\n",
       "      <td>20230223</td>\n",
       "    </tr>\n",
       "    <tr>\n",
       "      <th>9</th>\n",
       "      <td>4259932</td>\n",
       "      <td>None</td>\n",
       "      <td>20240129</td>\n",
       "    </tr>\n",
       "  </tbody>\n",
       "</table>\n",
       "</div>"
      ],
      "text/plain": [
       "       cnpj name_partner  start_date\n",
       "0   4128860         None    19890103\n",
       "1   6029375         None     6357060\n",
       "2   3801155         None    20051128\n",
       "3   5570652         None    20060821\n",
       "4   6619251         None    20071112\n",
       "5   7536754         None    20100616\n",
       "6  27191464         None    20170224\n",
       "7   7077993         None    20180315\n",
       "8  49691763         None    20230223\n",
       "9   4259932         None    20240129"
      ]
     },
     "execution_count": 19,
     "metadata": {},
     "output_type": "execute_result"
    }
   ],
   "source": []
  },
  {
   "cell_type": "markdown",
   "metadata": {},
   "source": [
    "Importing the libraries:"
   ]
  },
  {
   "cell_type": "code",
   "execution_count": 29,
   "metadata": {},
   "outputs": [
    {
     "name": "stdout",
     "output_type": "stream",
     "text": [
      "27620511 ANA PAULA ABREU DE ALMEIDA 20170427\n",
      "51074445 MAIRA RAMOS VIEIRA ARAUJO 20230616\n",
      "42129278 MARCELO ANDRADE GOMES 20210528\n",
      "3080867 VERA LUCIA SILVA MOSCI 20000811\n",
      "59114221 SIMONE DA SILVA BISPO 20250127\n",
      "49613014 SANDRO TEIXEIRA DO NASCIMENTO 20230215\n",
      "3299489 SERGIO PAULO PEDROSO SILVA 19990719\n",
      "59837234 ELITIERRY BARBOSA AMORIM RODRIGUES 20250311\n",
      "50564995 AMANDA DA SILVA MOTA 20230505\n",
      "5926690 MARCELO GOMES VASCONCELLOS 20060117\n"
     ]
    }
   ],
   "source": [
    "sample = pd.read_parquet(PARTNERS_PARQUET).sample(n=10)\n",
    "\n",
    "for _, (cnpj, name_partner, partnership_start) in sample.iterrows():\n",
    "    print(cnpj, name_partner, partnership_start)"
   ]
  },
  {
   "cell_type": "code",
   "execution_count": 54,
   "metadata": {},
   "outputs": [
    {
     "name": "stdout",
     "output_type": "stream",
     "text": [
      "<class 'pandas.core.frame.DataFrame'>\n",
      "Index: 10 entries, 14936674 to 6840269\n",
      "Data columns (total 3 columns):\n",
      " #   Column             Non-Null Count  Dtype \n",
      "---  ------             --------------  ----- \n",
      " 0   cnpj               10 non-null     int32 \n",
      " 1   name_partner       10 non-null     object\n",
      " 2   partnership_start  10 non-null     int64 \n",
      "dtypes: int32(1), int64(1), object(1)\n",
      "memory usage: 280.0+ bytes\n"
     ]
    }
   ],
   "source": [
    "sample.info()"
   ]
  },
  {
   "cell_type": "code",
   "execution_count": 30,
   "metadata": {},
   "outputs": [
    {
     "name": "stdout",
     "output_type": "stream",
     "text": [
      "5926690 MARCELO GOMES VASCONCELLOS 20060117\n"
     ]
    }
   ],
   "source": [
    "print(cnpj, name_partner, partnership_start)"
   ]
  },
  {
   "cell_type": "code",
   "execution_count": 50,
   "metadata": {},
   "outputs": [],
   "source": [
    "business = pd.read_parquet(BUSINESS_PARQUET)"
   ]
  },
  {
   "cell_type": "code",
   "execution_count": 51,
   "metadata": {},
   "outputs": [
    {
     "name": "stdout",
     "output_type": "stream",
     "text": [
      "<class 'pandas.core.frame.DataFrame'>\n",
      "RangeIndex: 66349375 entries, 0 to 66349374\n",
      "Data columns (total 5 columns):\n",
      " #   Column        Dtype \n",
      "---  ------        ----- \n",
      " 0   cnpj          int64 \n",
      " 1   trade_name    object\n",
      " 2   closing_date  int64 \n",
      " 3   opening_date  int64 \n",
      " 4   cep           int64 \n",
      "dtypes: int64(4), object(1)\n",
      "memory usage: 2.5+ GB\n"
     ]
    }
   ],
   "source": [
    "business.info()"
   ]
  },
  {
   "cell_type": "code",
   "execution_count": 52,
   "metadata": {},
   "outputs": [
    {
     "data": {
      "text/html": [
       "<div>\n",
       "<style scoped>\n",
       "    .dataframe tbody tr th:only-of-type {\n",
       "        vertical-align: middle;\n",
       "    }\n",
       "\n",
       "    .dataframe tbody tr th {\n",
       "        vertical-align: top;\n",
       "    }\n",
       "\n",
       "    .dataframe thead th {\n",
       "        text-align: right;\n",
       "    }\n",
       "</style>\n",
       "<table border=\"1\" class=\"dataframe\">\n",
       "  <thead>\n",
       "    <tr style=\"text-align: right;\">\n",
       "      <th></th>\n",
       "      <th>cnpj</th>\n",
       "      <th>trade_name</th>\n",
       "      <th>closing_date</th>\n",
       "      <th>opening_date</th>\n",
       "      <th>cep</th>\n",
       "    </tr>\n",
       "  </thead>\n",
       "  <tbody>\n",
       "    <tr>\n",
       "      <th>0</th>\n",
       "      <td>4155878</td>\n",
       "      <td>CONSULADO GERAL DA ITALIA</td>\n",
       "      <td>0</td>\n",
       "      <td>19010101</td>\n",
       "      <td>90880481</td>\n",
       "    </tr>\n",
       "    <tr>\n",
       "      <th>1</th>\n",
       "      <td>8771954</td>\n",
       "      <td>None</td>\n",
       "      <td>0</td>\n",
       "      <td>19010814</td>\n",
       "      <td>55900000</td>\n",
       "    </tr>\n",
       "    <tr>\n",
       "      <th>2</th>\n",
       "      <td>5245062</td>\n",
       "      <td>CARTORIO REGISTRO CIVIL</td>\n",
       "      <td>0</td>\n",
       "      <td>19220209</td>\n",
       "      <td>15490000</td>\n",
       "    </tr>\n",
       "    <tr>\n",
       "      <th>3</th>\n",
       "      <td>5014516</td>\n",
       "      <td>CARTORIO</td>\n",
       "      <td>0</td>\n",
       "      <td>19220821</td>\n",
       "      <td>75154000</td>\n",
       "    </tr>\n",
       "    <tr>\n",
       "      <th>4</th>\n",
       "      <td>7088608</td>\n",
       "      <td>SINAGOGA</td>\n",
       "      <td>0</td>\n",
       "      <td>19291227</td>\n",
       "      <td>3106030</td>\n",
       "    </tr>\n",
       "  </tbody>\n",
       "</table>\n",
       "</div>"
      ],
      "text/plain": [
       "      cnpj                 trade_name  closing_date  opening_date       cep\n",
       "0  4155878  CONSULADO GERAL DA ITALIA             0      19010101  90880481\n",
       "1  8771954                       None             0      19010814  55900000\n",
       "2  5245062    CARTORIO REGISTRO CIVIL             0      19220209  15490000\n",
       "3  5014516                   CARTORIO             0      19220821  75154000\n",
       "4  7088608                   SINAGOGA             0      19291227   3106030"
      ]
     },
     "execution_count": 52,
     "metadata": {},
     "output_type": "execute_result"
    }
   ],
   "source": [
    "business.head()"
   ]
  },
  {
   "cell_type": "code",
   "execution_count": 47,
   "metadata": {},
   "outputs": [
    {
     "data": {
      "text/plain": [
       "str"
      ]
     },
     "execution_count": 47,
     "metadata": {},
     "output_type": "execute_result"
    }
   ],
   "source": [
    "type(name_partner)"
   ]
  },
  {
   "cell_type": "code",
   "execution_count": 46,
   "metadata": {},
   "outputs": [
    {
     "data": {
      "text/plain": [
       "'ITALO BARRETO OLIVEIRA SANTOS'"
      ]
     },
     "execution_count": 46,
     "metadata": {},
     "output_type": "execute_result"
    }
   ],
   "source": [
    "selected[1]"
   ]
  },
  {
   "cell_type": "code",
   "execution_count": null,
   "metadata": {},
   "outputs": [],
   "source": [
    "def test_partners_parquet_contains_csv_data(self):\n",
    "        \n",
    "            row_found = False\n",
    "\n",
    "            for csv_path in self.SOCIOS_PATH:\n",
    "                df_csv = pd.read_csv(\n",
    "                    csv_path,\n",
    "                    sep=';',\n",
    "                    usecols=self.COLS_PARTNERS,\n",
    "                    names=self.NAMES_PARTNERS,\n",
    "                    encoding='latin-1',\n",
    "                    on_bad_lines='skip'\n",
    "                ).dropna()\n",
    "\n",
    "                df_csv.cnpj = df_csv.cnpj.astype('int32')\n",
    "                df_csv.partnership_start = pd.to_datetime(\n",
    "                    df_csv.partnership_start,\n",
    "                    format='%Y%m%d',\n",
    "                    errors='coerce'\n",
    "                )\n",
    "\n",
    "                match = df_csv[\n",
    "                    (df_csv.cnpj              == row.cnpj) &\n",
    "                    (df_csv.name_partner      == row.name_partner) &\n",
    "                    (df_csv.partnership_start == row.partnership_start)\n",
    "                ]\n",
    "\n",
    "                if not match.empty:\n",
    "                    print(\"\\n✅ Match found!\")\n",
    "                    print(f\"📁 In file: socios{i}.csv\")\n",
    "                    print(\"🔎 Row from parquet:\")\n",
    "                    print(row.to_frame().T.to_string(index=False))\n",
    "                    print(\"📄 Matching row from CSV:\")\n",
    "                    print(match.iloc[0].to_frame().T.to_string(index=False))\n",
    "                    row_found = True\n",
    "                    break\n",
    "\n",
    "            if not row_found:\n",
    "                self.fail(\n",
    "                    f\"\\n❌ Row from parquet not found in any socios[0-9].csv file:\\n{row.to_frame().T.to_string(index=False)}\"\n",
    "                )\n",
    "\n",
    "\n",
    "\n",
    "\n",
    "if __name__ == '__main__':\n",
    "    unittest.main()\n"
   ]
  },
  {
   "cell_type": "code",
   "execution_count": 1,
   "metadata": {},
   "outputs": [],
   "source": [
    "import pickle\n",
    "import pandas as pd\n",
    "\n",
    "from collections import defaultdict"
   ]
  },
  {
   "cell_type": "markdown",
   "metadata": {},
   "source": [
    "Loading the data:"
   ]
  },
  {
   "cell_type": "code",
   "execution_count": 2,
   "metadata": {},
   "outputs": [
    {
     "data": {
      "text/html": [
       "<div>\n",
       "<style scoped>\n",
       "    .dataframe tbody tr th:only-of-type {\n",
       "        vertical-align: middle;\n",
       "    }\n",
       "\n",
       "    .dataframe tbody tr th {\n",
       "        vertical-align: top;\n",
       "    }\n",
       "\n",
       "    .dataframe thead th {\n",
       "        text-align: right;\n",
       "    }\n",
       "</style>\n",
       "<table border=\"1\" class=\"dataframe\">\n",
       "  <thead>\n",
       "    <tr style=\"text-align: right;\">\n",
       "      <th></th>\n",
       "      <th>cnpj</th>\n",
       "      <th>name_partner</th>\n",
       "      <th>partnership_start</th>\n",
       "    </tr>\n",
       "  </thead>\n",
       "  <tbody>\n",
       "    <tr>\n",
       "      <th>0</th>\n",
       "      <td>1685190</td>\n",
       "      <td>JUSSARA PAZIN</td>\n",
       "      <td>1997-02-24</td>\n",
       "    </tr>\n",
       "    <tr>\n",
       "      <th>1</th>\n",
       "      <td>1685190</td>\n",
       "      <td>ANTONIO PAZIN</td>\n",
       "      <td>1999-10-06</td>\n",
       "    </tr>\n",
       "    <tr>\n",
       "      <th>2</th>\n",
       "      <td>92859388</td>\n",
       "      <td>ARI JOAO MARIA</td>\n",
       "      <td>2005-09-12</td>\n",
       "    </tr>\n",
       "    <tr>\n",
       "      <th>3</th>\n",
       "      <td>92859636</td>\n",
       "      <td>JOSE CARLOS LIMA</td>\n",
       "      <td>2005-09-12</td>\n",
       "    </tr>\n",
       "    <tr>\n",
       "      <th>4</th>\n",
       "      <td>92859677</td>\n",
       "      <td>EGON ROBERTO STRASSBURGER</td>\n",
       "      <td>1989-06-09</td>\n",
       "    </tr>\n",
       "  </tbody>\n",
       "</table>\n",
       "</div>"
      ],
      "text/plain": [
       "       cnpj               name_partner partnership_start\n",
       "0   1685190              JUSSARA PAZIN        1997-02-24\n",
       "1   1685190              ANTONIO PAZIN        1999-10-06\n",
       "2  92859388             ARI JOAO MARIA        2005-09-12\n",
       "3  92859636           JOSE CARLOS LIMA        2005-09-12\n",
       "4  92859677  EGON ROBERTO STRASSBURGER        1989-06-09"
      ]
     },
     "execution_count": 2,
     "metadata": {},
     "output_type": "execute_result"
    }
   ],
   "source": [
    "partners = pd.read_parquet('../data/parquet/partners.parquet')\n",
    "\n",
    "partners.head()"
   ]
  },
  {
   "cell_type": "code",
   "execution_count": 4,
   "metadata": {},
   "outputs": [
    {
     "data": {
      "text/html": [
       "<div>\n",
       "<style scoped>\n",
       "    .dataframe tbody tr th:only-of-type {\n",
       "        vertical-align: middle;\n",
       "    }\n",
       "\n",
       "    .dataframe tbody tr th {\n",
       "        vertical-align: top;\n",
       "    }\n",
       "\n",
       "    .dataframe thead th {\n",
       "        text-align: right;\n",
       "    }\n",
       "</style>\n",
       "<table border=\"1\" class=\"dataframe\">\n",
       "  <thead>\n",
       "    <tr style=\"text-align: right;\">\n",
       "      <th></th>\n",
       "      <th>cnpj</th>\n",
       "      <th>name_partner</th>\n",
       "      <th>partnership_start</th>\n",
       "    </tr>\n",
       "  </thead>\n",
       "  <tbody>\n",
       "    <tr>\n",
       "      <th>0</th>\n",
       "      <td>1685190</td>\n",
       "      <td>JUSSARA PAZIN</td>\n",
       "      <td>1997-02-24</td>\n",
       "    </tr>\n",
       "    <tr>\n",
       "      <th>1</th>\n",
       "      <td>1685190</td>\n",
       "      <td>ANTONIO PAZIN</td>\n",
       "      <td>1999-10-06</td>\n",
       "    </tr>\n",
       "    <tr>\n",
       "      <th>2</th>\n",
       "      <td>92859388</td>\n",
       "      <td>ARI JOAO MARIA</td>\n",
       "      <td>2005-09-12</td>\n",
       "    </tr>\n",
       "    <tr>\n",
       "      <th>3</th>\n",
       "      <td>92859636</td>\n",
       "      <td>JOSE CARLOS LIMA</td>\n",
       "      <td>2005-09-12</td>\n",
       "    </tr>\n",
       "    <tr>\n",
       "      <th>4</th>\n",
       "      <td>92859677</td>\n",
       "      <td>EGON ROBERTO STRASSBURGER</td>\n",
       "      <td>1989-06-09</td>\n",
       "    </tr>\n",
       "    <tr>\n",
       "      <th>5</th>\n",
       "      <td>92859677</td>\n",
       "      <td>MARIA IVONETE SANTIAGO STRASSBURGER</td>\n",
       "      <td>1989-06-09</td>\n",
       "    </tr>\n",
       "    <tr>\n",
       "      <th>6</th>\n",
       "      <td>4979683</td>\n",
       "      <td>LELIANA ABBUD MARCONDES</td>\n",
       "      <td>2002-03-27</td>\n",
       "    </tr>\n",
       "    <tr>\n",
       "      <th>7</th>\n",
       "      <td>4979683</td>\n",
       "      <td>MARIA APARECIDA ABBUD</td>\n",
       "      <td>2004-11-03</td>\n",
       "    </tr>\n",
       "    <tr>\n",
       "      <th>8</th>\n",
       "      <td>4979687</td>\n",
       "      <td>ANTONIO CASSIMIRO SOBRINHO</td>\n",
       "      <td>2002-02-25</td>\n",
       "    </tr>\n",
       "    <tr>\n",
       "      <th>9</th>\n",
       "      <td>4979687</td>\n",
       "      <td>WANDERLEI NOGUEIRA CASSIMIRO</td>\n",
       "      <td>2002-02-25</td>\n",
       "    </tr>\n",
       "    <tr>\n",
       "      <th>10</th>\n",
       "      <td>3336027</td>\n",
       "      <td>EDMILSON ANTONIO DOS SANTOS</td>\n",
       "      <td>2005-09-12</td>\n",
       "    </tr>\n",
       "    <tr>\n",
       "      <th>11</th>\n",
       "      <td>1685220</td>\n",
       "      <td>MARCELO GALIAS BUENO</td>\n",
       "      <td>1997-02-04</td>\n",
       "    </tr>\n",
       "    <tr>\n",
       "      <th>12</th>\n",
       "      <td>1685220</td>\n",
       "      <td>LUCIA HELENA MENEGHETE</td>\n",
       "      <td>1997-02-04</td>\n",
       "    </tr>\n",
       "    <tr>\n",
       "      <th>13</th>\n",
       "      <td>1685226</td>\n",
       "      <td>LUIS CARLOS SILVA DE FARIA</td>\n",
       "      <td>2003-09-25</td>\n",
       "    </tr>\n",
       "    <tr>\n",
       "      <th>14</th>\n",
       "      <td>1685226</td>\n",
       "      <td>PEEKY AMERICA, INC</td>\n",
       "      <td>2001-01-27</td>\n",
       "    </tr>\n",
       "    <tr>\n",
       "      <th>15</th>\n",
       "      <td>4979710</td>\n",
       "      <td>LARISSA FERNANDES TONINI</td>\n",
       "      <td>2004-03-16</td>\n",
       "    </tr>\n",
       "    <tr>\n",
       "      <th>16</th>\n",
       "      <td>4979710</td>\n",
       "      <td>GERSON FERNANDES DE CARVALHO JUNIOR</td>\n",
       "      <td>2004-03-16</td>\n",
       "    </tr>\n",
       "    <tr>\n",
       "      <th>17</th>\n",
       "      <td>4979713</td>\n",
       "      <td>NEUZA MARIA AMARAL</td>\n",
       "      <td>2002-03-12</td>\n",
       "    </tr>\n",
       "    <tr>\n",
       "      <th>18</th>\n",
       "      <td>4979713</td>\n",
       "      <td>SEBASTIAO FIRMINO DOS SANTOS SOBRINHO</td>\n",
       "      <td>2002-03-12</td>\n",
       "    </tr>\n",
       "    <tr>\n",
       "      <th>19</th>\n",
       "      <td>92860113</td>\n",
       "      <td>IVETE RIVA TURRA</td>\n",
       "      <td>2024-07-17</td>\n",
       "    </tr>\n",
       "  </tbody>\n",
       "</table>\n",
       "</div>"
      ],
      "text/plain": [
       "        cnpj                           name_partner partnership_start\n",
       "0    1685190                          JUSSARA PAZIN        1997-02-24\n",
       "1    1685190                          ANTONIO PAZIN        1999-10-06\n",
       "2   92859388                         ARI JOAO MARIA        2005-09-12\n",
       "3   92859636                       JOSE CARLOS LIMA        2005-09-12\n",
       "4   92859677              EGON ROBERTO STRASSBURGER        1989-06-09\n",
       "5   92859677    MARIA IVONETE SANTIAGO STRASSBURGER        1989-06-09\n",
       "6    4979683                LELIANA ABBUD MARCONDES        2002-03-27\n",
       "7    4979683                  MARIA APARECIDA ABBUD        2004-11-03\n",
       "8    4979687             ANTONIO CASSIMIRO SOBRINHO        2002-02-25\n",
       "9    4979687           WANDERLEI NOGUEIRA CASSIMIRO        2002-02-25\n",
       "10   3336027            EDMILSON ANTONIO DOS SANTOS        2005-09-12\n",
       "11   1685220                   MARCELO GALIAS BUENO        1997-02-04\n",
       "12   1685220                 LUCIA HELENA MENEGHETE        1997-02-04\n",
       "13   1685226             LUIS CARLOS SILVA DE FARIA        2003-09-25\n",
       "14   1685226                     PEEKY AMERICA, INC        2001-01-27\n",
       "15   4979710               LARISSA FERNANDES TONINI        2004-03-16\n",
       "16   4979710    GERSON FERNANDES DE CARVALHO JUNIOR        2004-03-16\n",
       "17   4979713                     NEUZA MARIA AMARAL        2002-03-12\n",
       "18   4979713  SEBASTIAO FIRMINO DOS SANTOS SOBRINHO        2002-03-12\n",
       "19  92860113                       IVETE RIVA TURRA        2024-07-17"
      ]
     },
     "execution_count": 4,
     "metadata": {},
     "output_type": "execute_result"
    }
   ],
   "source": [
    "partners.head(20)"
   ]
  },
  {
   "cell_type": "code",
   "execution_count": 3,
   "metadata": {},
   "outputs": [
    {
     "data": {
      "text/plain": [
       "25938492"
      ]
     },
     "execution_count": 3,
     "metadata": {},
     "output_type": "execute_result"
    }
   ],
   "source": [
    "len(partners)"
   ]
  },
  {
   "cell_type": "code",
   "execution_count": null,
   "metadata": {},
   "outputs": [],
   "source": []
  },
  {
   "cell_type": "code",
   "execution_count": null,
   "metadata": {},
   "outputs": [],
   "source": []
  },
  {
   "cell_type": "markdown",
   "metadata": {},
   "source": [
    "## BIPARTITE GRAPH"
   ]
  },
  {
   "cell_type": "markdown",
   "metadata": {},
   "source": [
    "Generating the bipartite graph:"
   ]
  },
  {
   "cell_type": "code",
   "execution_count": 3,
   "metadata": {},
   "outputs": [
    {
     "name": "stdout",
     "output_type": "stream",
     "text": [
      "Number of rows processed = 1000000\n",
      "Number of rows processed = 2000000\n",
      "Number of rows processed = 3000000\n",
      "Number of rows processed = 4000000\n",
      "Number of rows processed = 5000000\n",
      "Number of rows processed = 6000000\n",
      "Number of rows processed = 7000000\n",
      "Number of rows processed = 8000000\n",
      "Number of rows processed = 9000000\n",
      "Number of rows processed = 10000000\n",
      "Number of rows processed = 11000000\n",
      "Number of rows processed = 12000000\n",
      "Number of rows processed = 13000000\n",
      "Number of rows processed = 14000000\n",
      "Number of rows processed = 15000000\n",
      "Number of rows processed = 16000000\n",
      "Number of rows processed = 17000000\n",
      "Number of rows processed = 18000000\n",
      "Number of rows processed = 19000000\n",
      "Number of rows processed = 20000000\n",
      "Number of rows processed = 21000000\n",
      "Number of rows processed = 22000000\n",
      "Number of rows processed = 23000000\n",
      "Number of rows processed = 24000000\n",
      "Number of rows processed = 25000000\n"
     ]
    }
   ],
   "source": [
    "cnpj2id    = {}\n",
    "partner2id = {}\n",
    "adjdict    = defaultdict(list)\n",
    "\n",
    "cnpj_id  = 0\n",
    "cnpj_idx = 0\n",
    "partner_id  = 0\n",
    "partner_idx = 0\n",
    "\n",
    "for idx, (cnpj, partner) in enumerate(partners.itertuples(index=False)):\n",
    "    if cnpj not in cnpj2id:\n",
    "        cnpj_idx  = cnpj_id\n",
    "        cnpj_id  += 1\n",
    "\n",
    "        cnpj2id[cnpj] = cnpj_idx\n",
    "    else:\n",
    "        cnpj_idx = cnpj2id[cnpj]\n",
    "\n",
    "    if partner not in partner2id:\n",
    "        partner_idx  = partner_id\n",
    "        partner_id  += 1\n",
    "\n",
    "        partner2id[partner] = partner_idx\n",
    "    else:\n",
    "        partner_idx = partner2id[partner]\n",
    "\n",
    "    adjdict[cnpj_idx].append(partner_idx)\n",
    "\n",
    "    if idx % 1000000 == 999999:\n",
    "        print('Number of rows processed =', idx + 1)"
   ]
  },
  {
   "cell_type": "markdown",
   "metadata": {},
   "source": [
    "Optimizing the data structure of the adjacency list:"
   ]
  },
  {
   "cell_type": "code",
   "execution_count": 4,
   "metadata": {},
   "outputs": [],
   "source": [
    "adjacency = [[]] * len(adjdict)\n",
    "\n",
    "for k, v in adjdict.items():\n",
    "    adjacency[k] = v\n",
    "\n",
    "del adjdict"
   ]
  },
  {
   "cell_type": "markdown",
   "metadata": {},
   "source": [
    "Saving the data:"
   ]
  },
  {
   "cell_type": "code",
   "execution_count": 5,
   "metadata": {},
   "outputs": [],
   "source": [
    "with open('../data/cnpj2id.pkl'   , 'wb') as f:\n",
    "    pickle.dump(cnpj2id   , f)\n",
    "\n",
    "with open('../data/partner2id.pkl', 'wb') as f:\n",
    "    pickle.dump(partner2id, f)\n",
    "\n",
    "with open('../data/adjacency.pkl' , 'wb') as f:\n",
    "    pickle.dump(adjacency , f)"
   ]
  },
  {
   "cell_type": "markdown",
   "metadata": {},
   "source": [
    "Freeing the memory of objects:"
   ]
  },
  {
   "cell_type": "code",
   "execution_count": 6,
   "metadata": {},
   "outputs": [],
   "source": [
    "del cnpj2id\n",
    "del partner2id\n",
    "del adjacency"
   ]
  },
  {
   "cell_type": "markdown",
   "metadata": {},
   "source": [
    "## EXPLORING THE RESULTS"
   ]
  },
  {
   "cell_type": "markdown",
   "metadata": {},
   "source": [
    "Checking the number of companies and partners:"
   ]
  },
  {
   "cell_type": "code",
   "execution_count": 7,
   "metadata": {},
   "outputs": [
    {
     "name": "stdout",
     "output_type": "stream",
     "text": [
      "Number of companies in the 'partners' file = 14441622\n",
      "Number of partners  in the 'partners' file = 14686766\n"
     ]
    }
   ],
   "source": [
    "print('Number of companies in the \\'partners\\' file =', partners.cnpj.nunique())\n",
    "print('Number of partners  in the \\'partners\\' file =', partners.name_partner.nunique())"
   ]
  },
  {
   "cell_type": "markdown",
   "metadata": {},
   "source": [
    "Freeing up resources:"
   ]
  },
  {
   "cell_type": "code",
   "execution_count": 8,
   "metadata": {},
   "outputs": [],
   "source": [
    "del partners"
   ]
  },
  {
   "cell_type": "markdown",
   "metadata": {},
   "source": [
    "Loading the data:"
   ]
  },
  {
   "cell_type": "code",
   "execution_count": 9,
   "metadata": {},
   "outputs": [],
   "source": [
    "with open('../data/cnpj2id.pkl'   , 'rb') as f:\n",
    "    cnpj2id = pickle.load(f)\n",
    "\n",
    "with open('../data/partner2id.pkl', 'rb') as f:\n",
    "    partner2id = pickle.load(f)\n",
    "\n",
    "with open('../data/adjacency.pkl' , 'rb') as f:\n",
    "    adjacency = pickle.load(f)"
   ]
  },
  {
   "cell_type": "markdown",
   "metadata": {},
   "source": [
    "Confirming the number of companies and partners:"
   ]
  },
  {
   "cell_type": "code",
   "execution_count": 10,
   "metadata": {},
   "outputs": [
    {
     "name": "stdout",
     "output_type": "stream",
     "text": [
      "Number of companies in the 'cnpj2id'    file = 14441622\n",
      "Number of partners  in the 'partner2id' file = 14686766\n"
     ]
    }
   ],
   "source": [
    "print('Number of companies in the \\'cnpj2id\\'    file =', len(cnpj2id   ))\n",
    "print('Number of partners  in the \\'partner2id\\' file =', len(partner2id))"
   ]
  },
  {
   "cell_type": "markdown",
   "metadata": {},
   "source": [
    "Obtaining the partners of a given company:"
   ]
  },
  {
   "cell_type": "code",
   "execution_count": 11,
   "metadata": {},
   "outputs": [
    {
     "name": "stdout",
     "output_type": "stream",
     "text": [
      "CNPJ members 85061877:\n",
      "\n",
      "RICARDO BAULE ROSSI\n",
      "EDUARDO GUILHERME BAULE ROSSI\n"
     ]
    }
   ],
   "source": [
    "CNPJ = 85061877\n",
    "\n",
    "\n",
    "idx      = cnpj2id[CNPJ]\n",
    "partners = set(adjacency[idx])\n",
    "\n",
    "print(f'CNPJ members {CNPJ}:')\n",
    "print()\n",
    "for nome, idx in partner2id.items():\n",
    "    if idx in partners:\n",
    "        partners.remove(idx)\n",
    "\n",
    "        print(nome)\n",
    "\n",
    "    if not partners:\n",
    "        break"
   ]
  }
 ],
 "metadata": {
  "kernelspec": {
   "display_name": ".venv",
   "language": "python",
   "name": "python3"
  },
  "language_info": {
   "codemirror_mode": {
    "name": "ipython",
    "version": 3
   },
   "file_extension": ".py",
   "mimetype": "text/x-python",
   "name": "python",
   "nbconvert_exporter": "python",
   "pygments_lexer": "ipython3",
   "version": "3.12.3"
  }
 },
 "nbformat": 4,
 "nbformat_minor": 2
}
