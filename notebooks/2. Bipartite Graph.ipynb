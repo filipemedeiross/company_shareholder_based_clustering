{
 "cells": [
  {
   "cell_type": "markdown",
   "metadata": {},
   "source": [
    "# BIPARTITE GRAPH"
   ]
  },
  {
   "cell_type": "code",
   "execution_count": 2,
   "metadata": {},
   "outputs": [
    {
     "name": "stdout",
     "output_type": "stream",
     "text": [
      "64\n"
     ]
    }
   ],
   "source": [
    "import pyarrow.parquet as pq\n",
    "\n",
    "\n",
    "PARQUET_BUSINESS = '../data/parquet/business.parquet'\n",
    "\n",
    "table = pq.ParquetFile(PARQUET_BUSINESS)\n",
    "print(table.num_row_groups)"
   ]
  },
  {
   "cell_type": "code",
   "execution_count": 1,
   "metadata": {},
   "outputs": [],
   "source": [
    "import pandas as pd"
   ]
  },
  {
   "cell_type": "code",
   "execution_count": 2,
   "metadata": {},
   "outputs": [],
   "source": [
    "OUTPUT_PARTNERS  = '../data/parquet/partners.parquet'\n",
    "OUTPUT_COMPANIES = '../data/parquet/companies.parquet'\n",
    "OUTPUT_BUSINESS  = '../data/parquet/business.parquet'"
   ]
  },
  {
   "cell_type": "code",
   "execution_count": 18,
   "metadata": {},
   "outputs": [],
   "source": [
    "chunk = pd.read_csv(\n",
    "    '../data/csv/empresas/empresas0.csv',\n",
    "    sep=';',\n",
    "    usecols=[4],\n",
    "    names=['capital'],\n",
    "    nrows=100000,\n",
    "    low_memory=False      ,\n",
    "    encoding='latin-1'    ,\n",
    "    on_bad_lines='skip'   ,\n",
    ")"
   ]
  },
  {
   "cell_type": "code",
   "execution_count": null,
   "metadata": {},
   "outputs": [
    {
     "data": {
      "text/plain": [
       "0            0\n",
       "1         1000\n",
       "2        30000\n",
       "3         3000\n",
       "4         5000\n",
       "         ...  \n",
       "99995        0\n",
       "99996        0\n",
       "99997    15000\n",
       "99998        0\n",
       "99999        0\n",
       "Name: capital, Length: 100000, dtype: int64"
      ]
     },
     "execution_count": 24,
     "metadata": {},
     "output_type": "execute_result"
    }
   ],
   "source": [
    "chunk.capital\n"
   ]
  },
  {
   "cell_type": "code",
   "execution_count": 3,
   "metadata": {},
   "outputs": [
    {
     "data": {
      "text/html": [
       "<div>\n",
       "<style scoped>\n",
       "    .dataframe tbody tr th:only-of-type {\n",
       "        vertical-align: middle;\n",
       "    }\n",
       "\n",
       "    .dataframe tbody tr th {\n",
       "        vertical-align: top;\n",
       "    }\n",
       "\n",
       "    .dataframe thead th {\n",
       "        text-align: right;\n",
       "    }\n",
       "</style>\n",
       "<table border=\"1\" class=\"dataframe\">\n",
       "  <thead>\n",
       "    <tr style=\"text-align: right;\">\n",
       "      <th></th>\n",
       "      <th>capital</th>\n",
       "    </tr>\n",
       "  </thead>\n",
       "  <tbody>\n",
       "    <tr>\n",
       "      <th>0</th>\n",
       "      <td>0.0</td>\n",
       "    </tr>\n",
       "    <tr>\n",
       "      <th>1</th>\n",
       "      <td>1000.0</td>\n",
       "    </tr>\n",
       "    <tr>\n",
       "      <th>2</th>\n",
       "      <td>30000.0</td>\n",
       "    </tr>\n",
       "    <tr>\n",
       "      <th>3</th>\n",
       "      <td>3000.0</td>\n",
       "    </tr>\n",
       "    <tr>\n",
       "      <th>4</th>\n",
       "      <td>5000.0</td>\n",
       "    </tr>\n",
       "    <tr>\n",
       "      <th>5</th>\n",
       "      <td>3000.0</td>\n",
       "    </tr>\n",
       "    <tr>\n",
       "      <th>6</th>\n",
       "      <td>10000.0</td>\n",
       "    </tr>\n",
       "    <tr>\n",
       "      <th>7</th>\n",
       "      <td>5000.0</td>\n",
       "    </tr>\n",
       "    <tr>\n",
       "      <th>8</th>\n",
       "      <td>1100.0</td>\n",
       "    </tr>\n",
       "    <tr>\n",
       "      <th>9</th>\n",
       "      <td>2000.0</td>\n",
       "    </tr>\n",
       "    <tr>\n",
       "      <th>10</th>\n",
       "      <td>50000.0</td>\n",
       "    </tr>\n",
       "    <tr>\n",
       "      <th>11</th>\n",
       "      <td>2000.0</td>\n",
       "    </tr>\n",
       "    <tr>\n",
       "      <th>12</th>\n",
       "      <td>15000.0</td>\n",
       "    </tr>\n",
       "    <tr>\n",
       "      <th>13</th>\n",
       "      <td>10000.0</td>\n",
       "    </tr>\n",
       "    <tr>\n",
       "      <th>14</th>\n",
       "      <td>10000.0</td>\n",
       "    </tr>\n",
       "    <tr>\n",
       "      <th>15</th>\n",
       "      <td>1000.0</td>\n",
       "    </tr>\n",
       "    <tr>\n",
       "      <th>16</th>\n",
       "      <td>72000.0</td>\n",
       "    </tr>\n",
       "    <tr>\n",
       "      <th>17</th>\n",
       "      <td>1.0</td>\n",
       "    </tr>\n",
       "    <tr>\n",
       "      <th>18</th>\n",
       "      <td>0.0</td>\n",
       "    </tr>\n",
       "    <tr>\n",
       "      <th>19</th>\n",
       "      <td>10000.0</td>\n",
       "    </tr>\n",
       "  </tbody>\n",
       "</table>\n",
       "</div>"
      ],
      "text/plain": [
       "    capital\n",
       "0       0.0\n",
       "1    1000.0\n",
       "2   30000.0\n",
       "3    3000.0\n",
       "4    5000.0\n",
       "5    3000.0\n",
       "6   10000.0\n",
       "7    5000.0\n",
       "8    1100.0\n",
       "9    2000.0\n",
       "10  50000.0\n",
       "11   2000.0\n",
       "12  15000.0\n",
       "13  10000.0\n",
       "14  10000.0\n",
       "15   1000.0\n",
       "16  72000.0\n",
       "17      1.0\n",
       "18      0.0\n",
       "19  10000.0"
      ]
     },
     "execution_count": 3,
     "metadata": {},
     "output_type": "execute_result"
    }
   ],
   "source": [
    "companies = pd.read_parquet(OUTPUT_COMPANIES, columns=['capital'])\n",
    "\n",
    "companies.head(20)"
   ]
  },
  {
   "cell_type": "code",
   "execution_count": 30,
   "metadata": {},
   "outputs": [
    {
     "data": {
      "text/plain": [
       "999999999999.0"
      ]
     },
     "execution_count": 30,
     "metadata": {},
     "output_type": "execute_result"
    }
   ],
   "source": [
    "float(companies.max().iloc[0])"
   ]
  },
  {
   "cell_type": "code",
   "execution_count": null,
   "metadata": {},
   "outputs": [],
   "source": [
    "duplicated_cnpjs = companies[companies.duplicated(subset='cnpj', keep=False)]['cnpj']\n",
    "\n",
    "print(duplicated_cnpjs)"
   ]
  },
  {
   "cell_type": "code",
   "execution_count": 15,
   "metadata": {},
   "outputs": [
    {
     "data": {
      "text/html": [
       "<div>\n",
       "<style scoped>\n",
       "    .dataframe tbody tr th:only-of-type {\n",
       "        vertical-align: middle;\n",
       "    }\n",
       "\n",
       "    .dataframe tbody tr th {\n",
       "        vertical-align: top;\n",
       "    }\n",
       "\n",
       "    .dataframe thead th {\n",
       "        text-align: right;\n",
       "    }\n",
       "</style>\n",
       "<table border=\"1\" class=\"dataframe\">\n",
       "  <thead>\n",
       "    <tr style=\"text-align: right;\">\n",
       "      <th></th>\n",
       "      <th>cnpj</th>\n",
       "      <th>name_partner</th>\n",
       "      <th>start_date</th>\n",
       "    </tr>\n",
       "  </thead>\n",
       "  <tbody>\n",
       "    <tr>\n",
       "      <th>8</th>\n",
       "      <td>2450527</td>\n",
       "      <td>!</td>\n",
       "      <td>19010101</td>\n",
       "    </tr>\n",
       "    <tr>\n",
       "      <th>2048975</th>\n",
       "      <td>2327780</td>\n",
       "      <td>S</td>\n",
       "      <td>19980109</td>\n",
       "    </tr>\n",
       "  </tbody>\n",
       "</table>\n",
       "</div>"
      ],
      "text/plain": [
       "            cnpj name_partner  start_date\n",
       "8        2450527            !    19010101\n",
       "2048975  2327780            S    19980109"
      ]
     },
     "execution_count": 15,
     "metadata": {},
     "output_type": "execute_result"
    }
   ],
   "source": [
    "partners[partners.name_partner.str.len() < 3]"
   ]
  },
  {
   "cell_type": "code",
   "execution_count": null,
   "metadata": {},
   "outputs": [],
   "source": [
    "# ==============================================================\n",
    "# PART 4 - Reload both files and rewrite with higher compression\n",
    "# ==============================================================\n",
    "print('Rewriting parquet files with pyarrow compression...')\n",
    "\n",
    "\n",
    "partners.sort_values(\n",
    "    by=[\n",
    "        'start_date'  ,\n",
    "        'name_partner',\n",
    "    ],\n",
    "    inplace=True,\n",
    ")\n",
    "partners.to_parquet(\n",
    "    OUTPUT_PARTNERS ,\n",
    "    engine='pyarrow',\n",
    "    index=False     ,\n",
    ")\n",
    "\n",
    "del partners\n",
    "\n",
    "\n",
    "business = pd.read_parquet(OUTPUT_BUSINESS)\n",
    "\n",
    "business.sort_values(\n",
    "    by=[\n",
    "        'closing_date',\n",
    "        'opening_date',\n",
    "        'cep'         ,\n",
    "    ],\n",
    "    inplace=True,\n",
    ")\n",
    "business.to_parquet(\n",
    "    OUTPUT_BUSINESS ,\n",
    "    engine='pyarrow',\n",
    "    index=False     ,\n",
    ")\n",
    "\n",
    "del business\n"
   ]
  },
  {
   "cell_type": "markdown",
   "metadata": {},
   "source": [
    "## PREPARING THE ENVIRONMENT"
   ]
  },
  {
   "cell_type": "markdown",
   "metadata": {},
   "source": [
    "## BIPARTITE GRAPH"
   ]
  },
  {
   "cell_type": "markdown",
   "metadata": {},
   "source": [
    "Generating the bipartite graph:"
   ]
  },
  {
   "cell_type": "code",
   "execution_count": 3,
   "metadata": {},
   "outputs": [
    {
     "name": "stdout",
     "output_type": "stream",
     "text": [
      "Number of rows processed = 1000000\n",
      "Number of rows processed = 2000000\n",
      "Number of rows processed = 3000000\n",
      "Number of rows processed = 4000000\n",
      "Number of rows processed = 5000000\n",
      "Number of rows processed = 6000000\n",
      "Number of rows processed = 7000000\n",
      "Number of rows processed = 8000000\n",
      "Number of rows processed = 9000000\n",
      "Number of rows processed = 10000000\n",
      "Number of rows processed = 11000000\n",
      "Number of rows processed = 12000000\n",
      "Number of rows processed = 13000000\n",
      "Number of rows processed = 14000000\n",
      "Number of rows processed = 15000000\n",
      "Number of rows processed = 16000000\n",
      "Number of rows processed = 17000000\n",
      "Number of rows processed = 18000000\n",
      "Number of rows processed = 19000000\n",
      "Number of rows processed = 20000000\n",
      "Number of rows processed = 21000000\n",
      "Number of rows processed = 22000000\n",
      "Number of rows processed = 23000000\n",
      "Number of rows processed = 24000000\n",
      "Number of rows processed = 25000000\n"
     ]
    }
   ],
   "source": [
    "cnpj2id    = {}\n",
    "partner2id = {}\n",
    "adjdict    = defaultdict(list)\n",
    "\n",
    "cnpj_id  = 0\n",
    "cnpj_idx = 0\n",
    "partner_id  = 0\n",
    "partner_idx = 0\n",
    "\n",
    "for idx, (cnpj, partner) in enumerate(partners.itertuples(index=False)):\n",
    "    if cnpj not in cnpj2id:\n",
    "        cnpj_idx  = cnpj_id\n",
    "        cnpj_id  += 1\n",
    "\n",
    "        cnpj2id[cnpj] = cnpj_idx\n",
    "    else:\n",
    "        cnpj_idx = cnpj2id[cnpj]\n",
    "\n",
    "    if partner not in partner2id:\n",
    "        partner_idx  = partner_id\n",
    "        partner_id  += 1\n",
    "\n",
    "        partner2id[partner] = partner_idx\n",
    "    else:\n",
    "        partner_idx = partner2id[partner]\n",
    "\n",
    "    adjdict[cnpj_idx].append(partner_idx)\n",
    "\n",
    "    if idx % 1000000 == 999999:\n",
    "        print('Number of rows processed =', idx + 1)"
   ]
  },
  {
   "cell_type": "markdown",
   "metadata": {},
   "source": [
    "Optimizing the data structure of the adjacency list:"
   ]
  },
  {
   "cell_type": "code",
   "execution_count": 4,
   "metadata": {},
   "outputs": [],
   "source": [
    "adjacency = [[]] * len(adjdict)\n",
    "\n",
    "for k, v in adjdict.items():\n",
    "    adjacency[k] = v\n",
    "\n",
    "del adjdict"
   ]
  },
  {
   "cell_type": "markdown",
   "metadata": {},
   "source": [
    "Saving the data:"
   ]
  },
  {
   "cell_type": "code",
   "execution_count": 5,
   "metadata": {},
   "outputs": [],
   "source": [
    "with open('../data/cnpj2id.pkl'   , 'wb') as f:\n",
    "    pickle.dump(cnpj2id   , f)\n",
    "\n",
    "with open('../data/partner2id.pkl', 'wb') as f:\n",
    "    pickle.dump(partner2id, f)\n",
    "\n",
    "with open('../data/adjacency.pkl' , 'wb') as f:\n",
    "    pickle.dump(adjacency , f)"
   ]
  },
  {
   "cell_type": "markdown",
   "metadata": {},
   "source": [
    "Freeing the memory of objects:"
   ]
  },
  {
   "cell_type": "code",
   "execution_count": 6,
   "metadata": {},
   "outputs": [],
   "source": [
    "del cnpj2id\n",
    "del partner2id\n",
    "del adjacency"
   ]
  },
  {
   "cell_type": "markdown",
   "metadata": {},
   "source": [
    "## EXPLORING THE RESULTS"
   ]
  },
  {
   "cell_type": "markdown",
   "metadata": {},
   "source": [
    "Checking the number of companies and partners:"
   ]
  },
  {
   "cell_type": "code",
   "execution_count": 7,
   "metadata": {},
   "outputs": [
    {
     "name": "stdout",
     "output_type": "stream",
     "text": [
      "Number of companies in the 'partners' file = 14441622\n",
      "Number of partners  in the 'partners' file = 14686766\n"
     ]
    }
   ],
   "source": [
    "print('Number of companies in the \\'partners\\' file =', partners.cnpj.nunique())\n",
    "print('Number of partners  in the \\'partners\\' file =', partners.name_partner.nunique())"
   ]
  },
  {
   "cell_type": "markdown",
   "metadata": {},
   "source": [
    "Freeing up resources:"
   ]
  },
  {
   "cell_type": "code",
   "execution_count": 8,
   "metadata": {},
   "outputs": [],
   "source": [
    "del partners"
   ]
  },
  {
   "cell_type": "markdown",
   "metadata": {},
   "source": [
    "Loading the data:"
   ]
  },
  {
   "cell_type": "code",
   "execution_count": 9,
   "metadata": {},
   "outputs": [],
   "source": [
    "with open('../data/cnpj2id.pkl'   , 'rb') as f:\n",
    "    cnpj2id = pickle.load(f)\n",
    "\n",
    "with open('../data/partner2id.pkl', 'rb') as f:\n",
    "    partner2id = pickle.load(f)\n",
    "\n",
    "with open('../data/adjacency.pkl' , 'rb') as f:\n",
    "    adjacency = pickle.load(f)"
   ]
  },
  {
   "cell_type": "markdown",
   "metadata": {},
   "source": [
    "Confirming the number of companies and partners:"
   ]
  },
  {
   "cell_type": "code",
   "execution_count": 10,
   "metadata": {},
   "outputs": [
    {
     "name": "stdout",
     "output_type": "stream",
     "text": [
      "Number of companies in the 'cnpj2id'    file = 14441622\n",
      "Number of partners  in the 'partner2id' file = 14686766\n"
     ]
    }
   ],
   "source": [
    "print('Number of companies in the \\'cnpj2id\\'    file =', len(cnpj2id   ))\n",
    "print('Number of partners  in the \\'partner2id\\' file =', len(partner2id))"
   ]
  },
  {
   "cell_type": "markdown",
   "metadata": {},
   "source": [
    "Obtaining the partners of a given company:"
   ]
  },
  {
   "cell_type": "code",
   "execution_count": 11,
   "metadata": {},
   "outputs": [
    {
     "name": "stdout",
     "output_type": "stream",
     "text": [
      "CNPJ members 85061877:\n",
      "\n",
      "RICARDO BAULE ROSSI\n",
      "EDUARDO GUILHERME BAULE ROSSI\n"
     ]
    }
   ],
   "source": [
    "CNPJ = 85061877\n",
    "\n",
    "\n",
    "idx      = cnpj2id[CNPJ]\n",
    "partners = set(adjacency[idx])\n",
    "\n",
    "print(f'CNPJ members {CNPJ}:')\n",
    "print()\n",
    "for nome, idx in partner2id.items():\n",
    "    if idx in partners:\n",
    "        partners.remove(idx)\n",
    "\n",
    "        print(nome)\n",
    "\n",
    "    if not partners:\n",
    "        break"
   ]
  }
 ],
 "metadata": {
  "kernelspec": {
   "display_name": ".venv",
   "language": "python",
   "name": "python3"
  },
  "language_info": {
   "codemirror_mode": {
    "name": "ipython",
    "version": 3
   },
   "file_extension": ".py",
   "mimetype": "text/x-python",
   "name": "python",
   "nbconvert_exporter": "python",
   "pygments_lexer": "ipython3",
   "version": "3.13.5"
  }
 },
 "nbformat": 4,
 "nbformat_minor": 2
}
