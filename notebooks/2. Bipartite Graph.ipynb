{
 "cells": [
  {
   "cell_type": "markdown",
   "metadata": {},
   "source": [
    "# BIPARTITE GRAPH"
   ]
  },
  {
   "cell_type": "code",
   "execution_count": 2,
   "metadata": {},
   "outputs": [
    {
     "name": "stdout",
     "output_type": "stream",
     "text": [
      "64\n"
     ]
    }
   ],
   "source": [
    "import pyarrow.parquet as pq\n",
    "\n",
    "\n",
    "PARQUET_BUSINESS = '../data/parquet/business.parquet'\n",
    "\n",
    "table = pq.ParquetFile(PARQUET_BUSINESS)\n",
    "print(table.num_row_groups)"
   ]
  },
  {
   "cell_type": "code",
   "execution_count": 1,
   "metadata": {},
   "outputs": [],
   "source": [
    "import pandas as pd"
   ]
  },
  {
   "cell_type": "code",
   "execution_count": 2,
   "metadata": {},
   "outputs": [],
   "source": [
    "COLS_PARTNERS = [\n",
    "    0, 2, 5\n",
    "]\n",
    "COLS_COMPANIES = [\n",
    "    0, 1, 4\n",
    "]\n",
    "COLS_BUSINESS = [\n",
    "    0, 1, 2, 3, 4, 6, 10, 18\n",
    "]\n",
    "\n",
    "NAMES_PARTNERS  = [\n",
    "    'cnpj'        ,\n",
    "    'name_partner',\n",
    "    'start_date'  ,\n",
    "]\n",
    "NAMES_COMPANIES = [\n",
    "    'cnpj'          ,\n",
    "    'corporate_name',\n",
    "    'capital'       ,\n",
    "]\n",
    "NAMES_BUSINESS  = [\n",
    "    'cnpj'        ,\n",
    "    'cnpj_order'  ,\n",
    "    'cnpj_dv'     ,\n",
    "    'branch'      ,\n",
    "    'trade_name'  ,\n",
    "    'closing_date',\n",
    "    'opening_date',\n",
    "    'cep'         ,\n",
    "]"
   ]
  },
  {
   "cell_type": "code",
   "execution_count": null,
   "metadata": {},
   "outputs": [],
   "source": []
  },
  {
   "cell_type": "code",
   "execution_count": null,
   "metadata": {},
   "outputs": [
    {
     "ename": "NameError",
     "evalue": "name 'pd' is not defined",
     "output_type": "error",
     "traceback": [
      "\u001b[31m---------------------------------------------------------------------------\u001b[39m",
      "\u001b[31mNameError\u001b[39m                                 Traceback (most recent call last)",
      "\u001b[36mCell\u001b[39m\u001b[36m \u001b[39m\u001b[32mIn[1]\u001b[39m\u001b[32m, line 1\u001b[39m\n\u001b[32m----> \u001b[39m\u001b[32m1\u001b[39m estabelecimentos = \u001b[43mpd\u001b[49m.read_parquet(\n\u001b[32m      2\u001b[39m     \u001b[33m'\u001b[39m\u001b[33m../data/parquet/companies.parquet\u001b[39m\u001b[33m'\u001b[39m,\n\u001b[32m      3\u001b[39m     columns=[\u001b[33m'\u001b[39m\u001b[33mcnpj\u001b[39m\u001b[33m'\u001b[39m],\n\u001b[32m      4\u001b[39m )\n\u001b[32m      6\u001b[39m estabelecimentos.head()\n",
      "\u001b[31mNameError\u001b[39m: name 'pd' is not defined"
     ]
    }
   ],
   "source": [
    "import pandas as pd\n",
    "\n",
    "\n",
    "estabelecimentos = pd.read_parquet(\n",
    "    '../data/parquet/companies.parquet',\n",
    "    columns=['cnpj'],\n",
    ")\n",
    "\n",
    "estabelecimentos.head()"
   ]
  },
  {
   "cell_type": "code",
   "execution_count": 11,
   "metadata": {
    "vscode": {
     "languageId": "ruby"
    }
   },
   "outputs": [
    {
     "name": "stdout",
     "output_type": "stream",
     "text": [
      "Todos os CNPJs de partners estão em companies? True\n",
      "Todos os CNPJs de partners estão em business? True\n"
     ]
    }
   ],
   "source": [
    "# Verifica se todos os CNPJs de partners estão em companies usando DuckDB\n",
    "query_companies = \"\"\"\n",
    "    SELECT COUNT(*) = 0 AS todos_em_companies\n",
    "    FROM (\n",
    "        SELECT cnpj\n",
    "        FROM '../data/parquet/partners.parquet'\n",
    "        EXCEPT\n",
    "        SELECT cnpj\n",
    "        FROM '../data/parquet/companies.parquet'\n",
    "    )\n",
    "\"\"\"\n",
    "todos_em_companies = con.execute(query_companies).fetchdf().iloc[0, 0]\n",
    "print('Todos os CNPJs de partners estão em companies?', bool(todos_em_companies))\n",
    "\n",
    "# Verifica se todos os CNPJs de partners estão em business usando DuckDB\n",
    "query_business = \"\"\"\n",
    "    SELECT COUNT(*) = 0 AS todos_em_business\n",
    "    FROM (\n",
    "        SELECT cnpj\n",
    "        FROM '../data/parquet/partners.parquet'\n",
    "        EXCEPT\n",
    "        SELECT cnpj\n",
    "        FROM '../data/parquet/business.parquet'\n",
    "    )\n",
    "\"\"\"\n",
    "todos_em_business = con.execute(query_business).fetchdf().iloc[0, 0]\n",
    "print('Todos os CNPJs de partners estão em business?', bool(todos_em_business))"
   ]
  },
  {
   "cell_type": "code",
   "execution_count": 1,
   "metadata": {},
   "outputs": [
    {
     "name": "stdout",
     "output_type": "stream",
     "text": [
      "   total_linhas  linhas_unicas\n",
      "0      26060365       15155173\n"
     ]
    }
   ],
   "source": [
    "import duckdb\n",
    "\n",
    "# Conecta ao arquivo Parquet usando DuckDB\n",
    "con = duckdb.connect()\n",
    "\n",
    "# Conta o número total de linhas e o número de linhas únicas de 'estabelecimentos'\n",
    "result = con.execute(\"\"\"\n",
    "    SELECT \n",
    "        COUNT(cnpj) AS total_linhas,\n",
    "        COUNT(DISTINCT cnpj) AS linhas_unicas\n",
    "    FROM '../data/parquet/partners.parquet'\n",
    "\"\"\").fetchdf()\n",
    "\n",
    "print(result)"
   ]
  },
  {
   "cell_type": "code",
   "execution_count": 2,
   "metadata": {},
   "outputs": [
    {
     "name": "stdout",
     "output_type": "stream",
     "text": [
      "   total_linhas  linhas_unicas\n",
      "0      15155173       15155173\n"
     ]
    }
   ],
   "source": [
    "import duckdb\n",
    "\n",
    "# Conecta ao arquivo Parquet usando DuckDB\n",
    "con = duckdb.connect()\n",
    "\n",
    "# Conta o número total de linhas e o número de linhas únicas de 'estabelecimentos'\n",
    "result = con.execute(\"\"\"\n",
    "    SELECT \n",
    "        COUNT(cnpj) AS total_linhas,\n",
    "        COUNT(DISTINCT cnpj) AS linhas_unicas\n",
    "    FROM '../data/parquet/companies.parquet'\n",
    "\"\"\").fetchdf()\n",
    "\n",
    "print(result)"
   ]
  },
  {
   "cell_type": "code",
   "execution_count": 7,
   "metadata": {},
   "outputs": [
    {
     "name": "stdout",
     "output_type": "stream",
     "text": [
      "   total_linhas  linhas_unicas  cnpjs_unicas\n",
      "0      17520764       17520764      15155173\n"
     ]
    }
   ],
   "source": [
    "result = con.execute(\"\"\"\n",
    "    SELECT \n",
    "        COUNT(*) AS total_linhas,\n",
    "        COUNT(DISTINCT (cnpj, cnpj_order, cnpj_dv)) AS linhas_unicas,\n",
    "        COUNT(DISTINCT cnpj) AS cnpjs_unicas\n",
    "    FROM '../data/parquet/business.parquet'\n",
    "\"\"\").fetchdf()\n",
    "\n",
    "print(result)"
   ]
  },
  {
   "cell_type": "code",
   "execution_count": 6,
   "metadata": {},
   "outputs": [
    {
     "name": "stdout",
     "output_type": "stream",
     "text": [
      "   total_linhas  linhas_unicas\n",
      "0      17520764       17520764\n"
     ]
    }
   ],
   "source": [
    "con = duckdb.connect()\n",
    "\n",
    "# Conta o número total de linhas e o número de linhas únicas de 'estabelecimentos'\n",
    "result = con.execute(\"\"\"\n",
    "    SELECT \n",
    "        COUNT((cnpj, cnpj_order, cnpj_dv)) AS total_linhas,\n",
    "        COUNT(DISTINCT (cnpj, cnpj_order, cnpj_dv)) AS linhas_unicas\n",
    "    FROM '../data/parquet/business.parquet'\n",
    "\"\"\").fetchdf()\n",
    "\n",
    "print(result)"
   ]
  },
  {
   "cell_type": "code",
   "execution_count": 19,
   "metadata": {},
   "outputs": [
    {
     "data": {
      "text/html": [
       "<div>\n",
       "<style scoped>\n",
       "    .dataframe tbody tr th:only-of-type {\n",
       "        vertical-align: middle;\n",
       "    }\n",
       "\n",
       "    .dataframe tbody tr th {\n",
       "        vertical-align: top;\n",
       "    }\n",
       "\n",
       "    .dataframe thead th {\n",
       "        text-align: right;\n",
       "    }\n",
       "</style>\n",
       "<table border=\"1\" class=\"dataframe\">\n",
       "  <thead>\n",
       "    <tr style=\"text-align: right;\">\n",
       "      <th></th>\n",
       "      <th>cnpj</th>\n",
       "      <th>cnpj_order</th>\n",
       "      <th>cnpj_dv</th>\n",
       "      <th>branch</th>\n",
       "      <th>trade_name</th>\n",
       "      <th>closing_date</th>\n",
       "      <th>opening_date</th>\n",
       "      <th>cep</th>\n",
       "    </tr>\n",
       "  </thead>\n",
       "  <tbody>\n",
       "    <tr>\n",
       "      <th>0</th>\n",
       "      <td>20653224</td>\n",
       "      <td>1</td>\n",
       "      <td>0</td>\n",
       "      <td>1</td>\n",
       "      <td>ASSEMBLEIA DE DEUS CATEDRAL DOS EVANGELISTAS</td>\n",
       "      <td>20181213</td>\n",
       "      <td>20140714</td>\n",
       "      <td>68626414.0</td>\n",
       "    </tr>\n",
       "    <tr>\n",
       "      <th>1</th>\n",
       "      <td>20653240</td>\n",
       "      <td>1</td>\n",
       "      <td>0</td>\n",
       "      <td>1</td>\n",
       "      <td>ATELLIERDABELEZZA P7 COM BR</td>\n",
       "      <td>20160830</td>\n",
       "      <td>20140717</td>\n",
       "      <td>3420000.0</td>\n",
       "    </tr>\n",
       "    <tr>\n",
       "      <th>2</th>\n",
       "      <td>20653251</td>\n",
       "      <td>1</td>\n",
       "      <td>82</td>\n",
       "      <td>1</td>\n",
       "      <td>NaN</td>\n",
       "      <td>20140717</td>\n",
       "      <td>20140717</td>\n",
       "      <td>40231181.0</td>\n",
       "    </tr>\n",
       "    <tr>\n",
       "      <th>3</th>\n",
       "      <td>20653263</td>\n",
       "      <td>1</td>\n",
       "      <td>7</td>\n",
       "      <td>1</td>\n",
       "      <td>SANDRA DAICAMPI</td>\n",
       "      <td>20150928</td>\n",
       "      <td>20140717</td>\n",
       "      <td>88270000.0</td>\n",
       "    </tr>\n",
       "    <tr>\n",
       "      <th>4</th>\n",
       "      <td>20653277</td>\n",
       "      <td>1</td>\n",
       "      <td>20</td>\n",
       "      <td>1</td>\n",
       "      <td>MARQUINHOS RACOES</td>\n",
       "      <td>20160511</td>\n",
       "      <td>20140717</td>\n",
       "      <td>27961050.0</td>\n",
       "    </tr>\n",
       "  </tbody>\n",
       "</table>\n",
       "</div>"
      ],
      "text/plain": [
       "       cnpj  cnpj_order  cnpj_dv  branch  \\\n",
       "0  20653224           1        0       1   \n",
       "1  20653240           1        0       1   \n",
       "2  20653251           1       82       1   \n",
       "3  20653263           1        7       1   \n",
       "4  20653277           1       20       1   \n",
       "\n",
       "                                     trade_name  closing_date  opening_date  \\\n",
       "0  ASSEMBLEIA DE DEUS CATEDRAL DOS EVANGELISTAS      20181213      20140714   \n",
       "1                   ATELLIERDABELEZZA P7 COM BR      20160830      20140717   \n",
       "2                                           NaN      20140717      20140717   \n",
       "3                               SANDRA DAICAMPI      20150928      20140717   \n",
       "4                             MARQUINHOS RACOES      20160511      20140717   \n",
       "\n",
       "          cep  \n",
       "0  68626414.0  \n",
       "1   3420000.0  \n",
       "2  40231181.0  \n",
       "3  88270000.0  \n",
       "4  27961050.0  "
      ]
     },
     "execution_count": 19,
     "metadata": {},
     "output_type": "execute_result"
    }
   ],
   "source": [
    "df = pd.read_csv('../data/csv/estabelecimentos/estabelecimentos0.csv', sep=';', usecols=COLS_BUSINESS, names=NAMES_BUSINESS, nrows=1000000,\n",
    "                 low_memory=False, encoding='latin-1', on_bad_lines='skip')\n",
    "\n",
    "df.head()"
   ]
  },
  {
   "cell_type": "code",
   "execution_count": 20,
   "metadata": {},
   "outputs": [],
   "source": [
    "df.cep = (\n",
    "    df\n",
    "    .cep\n",
    "    .fillna('0')\n",
    "    .astype(str)\n",
    "    .str.replace('-' , '')\n",
    "    .str.replace(r'\\..*$', '', regex=True)\n",
    "    .str.zfill(8)\n",
    ")"
   ]
  },
  {
   "cell_type": "code",
   "execution_count": 21,
   "metadata": {},
   "outputs": [
    {
     "data": {
      "text/html": [
       "<div>\n",
       "<style scoped>\n",
       "    .dataframe tbody tr th:only-of-type {\n",
       "        vertical-align: middle;\n",
       "    }\n",
       "\n",
       "    .dataframe tbody tr th {\n",
       "        vertical-align: top;\n",
       "    }\n",
       "\n",
       "    .dataframe thead th {\n",
       "        text-align: right;\n",
       "    }\n",
       "</style>\n",
       "<table border=\"1\" class=\"dataframe\">\n",
       "  <thead>\n",
       "    <tr style=\"text-align: right;\">\n",
       "      <th></th>\n",
       "      <th>cnpj</th>\n",
       "      <th>cnpj_order</th>\n",
       "      <th>cnpj_dv</th>\n",
       "      <th>branch</th>\n",
       "      <th>trade_name</th>\n",
       "      <th>closing_date</th>\n",
       "      <th>opening_date</th>\n",
       "      <th>cep</th>\n",
       "    </tr>\n",
       "  </thead>\n",
       "  <tbody>\n",
       "    <tr>\n",
       "      <th>0</th>\n",
       "      <td>20653224</td>\n",
       "      <td>1</td>\n",
       "      <td>0</td>\n",
       "      <td>1</td>\n",
       "      <td>ASSEMBLEIA DE DEUS CATEDRAL DOS EVANGELISTAS</td>\n",
       "      <td>20181213</td>\n",
       "      <td>20140714</td>\n",
       "      <td>68626414</td>\n",
       "    </tr>\n",
       "    <tr>\n",
       "      <th>1</th>\n",
       "      <td>20653240</td>\n",
       "      <td>1</td>\n",
       "      <td>0</td>\n",
       "      <td>1</td>\n",
       "      <td>ATELLIERDABELEZZA P7 COM BR</td>\n",
       "      <td>20160830</td>\n",
       "      <td>20140717</td>\n",
       "      <td>03420000</td>\n",
       "    </tr>\n",
       "    <tr>\n",
       "      <th>2</th>\n",
       "      <td>20653251</td>\n",
       "      <td>1</td>\n",
       "      <td>82</td>\n",
       "      <td>1</td>\n",
       "      <td>NaN</td>\n",
       "      <td>20140717</td>\n",
       "      <td>20140717</td>\n",
       "      <td>40231181</td>\n",
       "    </tr>\n",
       "    <tr>\n",
       "      <th>3</th>\n",
       "      <td>20653263</td>\n",
       "      <td>1</td>\n",
       "      <td>7</td>\n",
       "      <td>1</td>\n",
       "      <td>SANDRA DAICAMPI</td>\n",
       "      <td>20150928</td>\n",
       "      <td>20140717</td>\n",
       "      <td>88270000</td>\n",
       "    </tr>\n",
       "    <tr>\n",
       "      <th>4</th>\n",
       "      <td>20653277</td>\n",
       "      <td>1</td>\n",
       "      <td>20</td>\n",
       "      <td>1</td>\n",
       "      <td>MARQUINHOS RACOES</td>\n",
       "      <td>20160511</td>\n",
       "      <td>20140717</td>\n",
       "      <td>27961050</td>\n",
       "    </tr>\n",
       "    <tr>\n",
       "      <th>...</th>\n",
       "      <td>...</td>\n",
       "      <td>...</td>\n",
       "      <td>...</td>\n",
       "      <td>...</td>\n",
       "      <td>...</td>\n",
       "      <td>...</td>\n",
       "      <td>...</td>\n",
       "      <td>...</td>\n",
       "    </tr>\n",
       "    <tr>\n",
       "      <th>999995</th>\n",
       "      <td>30609949</td>\n",
       "      <td>1</td>\n",
       "      <td>54</td>\n",
       "      <td>1</td>\n",
       "      <td>NaN</td>\n",
       "      <td>20210325</td>\n",
       "      <td>20180604</td>\n",
       "      <td>21550220</td>\n",
       "    </tr>\n",
       "    <tr>\n",
       "      <th>999996</th>\n",
       "      <td>30609961</td>\n",
       "      <td>1</td>\n",
       "      <td>69</td>\n",
       "      <td>1</td>\n",
       "      <td>DINO BRINDES</td>\n",
       "      <td>20180604</td>\n",
       "      <td>20180604</td>\n",
       "      <td>20740480</td>\n",
       "    </tr>\n",
       "    <tr>\n",
       "      <th>999997</th>\n",
       "      <td>30609974</td>\n",
       "      <td>1</td>\n",
       "      <td>38</td>\n",
       "      <td>1</td>\n",
       "      <td>NaN</td>\n",
       "      <td>20180604</td>\n",
       "      <td>20180604</td>\n",
       "      <td>15046826</td>\n",
       "    </tr>\n",
       "    <tr>\n",
       "      <th>999998</th>\n",
       "      <td>30609987</td>\n",
       "      <td>1</td>\n",
       "      <td>7</td>\n",
       "      <td>1</td>\n",
       "      <td>NaN</td>\n",
       "      <td>20241105</td>\n",
       "      <td>20180604</td>\n",
       "      <td>38405322</td>\n",
       "    </tr>\n",
       "    <tr>\n",
       "      <th>999999</th>\n",
       "      <td>30609997</td>\n",
       "      <td>1</td>\n",
       "      <td>42</td>\n",
       "      <td>1</td>\n",
       "      <td>OSEIAS LTDA</td>\n",
       "      <td>20231011</td>\n",
       "      <td>20180604</td>\n",
       "      <td>40715394</td>\n",
       "    </tr>\n",
       "  </tbody>\n",
       "</table>\n",
       "<p>1000000 rows × 8 columns</p>\n",
       "</div>"
      ],
      "text/plain": [
       "            cnpj  cnpj_order  cnpj_dv  branch  \\\n",
       "0       20653224           1        0       1   \n",
       "1       20653240           1        0       1   \n",
       "2       20653251           1       82       1   \n",
       "3       20653263           1        7       1   \n",
       "4       20653277           1       20       1   \n",
       "...          ...         ...      ...     ...   \n",
       "999995  30609949           1       54       1   \n",
       "999996  30609961           1       69       1   \n",
       "999997  30609974           1       38       1   \n",
       "999998  30609987           1        7       1   \n",
       "999999  30609997           1       42       1   \n",
       "\n",
       "                                          trade_name  closing_date  \\\n",
       "0       ASSEMBLEIA DE DEUS CATEDRAL DOS EVANGELISTAS      20181213   \n",
       "1                        ATELLIERDABELEZZA P7 COM BR      20160830   \n",
       "2                                                NaN      20140717   \n",
       "3                                    SANDRA DAICAMPI      20150928   \n",
       "4                                  MARQUINHOS RACOES      20160511   \n",
       "...                                              ...           ...   \n",
       "999995                                           NaN      20210325   \n",
       "999996                                  DINO BRINDES      20180604   \n",
       "999997                                           NaN      20180604   \n",
       "999998                                           NaN      20241105   \n",
       "999999                                   OSEIAS LTDA      20231011   \n",
       "\n",
       "        opening_date       cep  \n",
       "0           20140714  68626414  \n",
       "1           20140717  03420000  \n",
       "2           20140717  40231181  \n",
       "3           20140717  88270000  \n",
       "4           20140717  27961050  \n",
       "...              ...       ...  \n",
       "999995      20180604  21550220  \n",
       "999996      20180604  20740480  \n",
       "999997      20180604  15046826  \n",
       "999998      20180604  38405322  \n",
       "999999      20180604  40715394  \n",
       "\n",
       "[1000000 rows x 8 columns]"
      ]
     },
     "execution_count": 21,
     "metadata": {},
     "output_type": "execute_result"
    }
   ],
   "source": [
    "df"
   ]
  },
  {
   "cell_type": "code",
   "execution_count": 7,
   "metadata": {},
   "outputs": [
    {
     "name": "stdout",
     "output_type": "stream",
     "text": [
      "<class 'pandas.core.frame.DataFrame'>\n",
      "RangeIndex: 1000000 entries, 0 to 999999\n",
      "Data columns (total 3 columns):\n",
      " #   Column        Non-Null Count    Dtype \n",
      "---  ------        --------------    ----- \n",
      " 0   cnpj          1000000 non-null  int64 \n",
      " 1   name_partner  999816 non-null   object\n",
      " 2   start_date    1000000 non-null  int64 \n",
      "dtypes: int64(2), object(1)\n",
      "memory usage: 22.9+ MB\n"
     ]
    }
   ],
   "source": [
    "df.info()"
   ]
  },
  {
   "cell_type": "code",
   "execution_count": 22,
   "metadata": {},
   "outputs": [],
   "source": [
    "OUTPUT_PARTNERS  = '../data/parquet/partners.parquet'\n",
    "OUTPUT_COMPANIES = '../data/parquet/companies.parquet'\n",
    "OUTPUT_BUSINESS  = '../data/parquet/business.parquet'"
   ]
  },
  {
   "cell_type": "code",
   "execution_count": 23,
   "metadata": {},
   "outputs": [],
   "source": [
    "import fastparquet as fp\n"
   ]
  },
  {
   "cell_type": "code",
   "execution_count": 26,
   "metadata": {},
   "outputs": [
    {
     "data": {
      "text/html": [
       "<div>\n",
       "<style scoped>\n",
       "    .dataframe tbody tr th:only-of-type {\n",
       "        vertical-align: middle;\n",
       "    }\n",
       "\n",
       "    .dataframe tbody tr th {\n",
       "        vertical-align: top;\n",
       "    }\n",
       "\n",
       "    .dataframe thead th {\n",
       "        text-align: right;\n",
       "    }\n",
       "</style>\n",
       "<table border=\"1\" class=\"dataframe\">\n",
       "  <thead>\n",
       "    <tr style=\"text-align: right;\">\n",
       "      <th></th>\n",
       "      <th>cnpj</th>\n",
       "      <th>corporate_name</th>\n",
       "      <th>capital</th>\n",
       "    </tr>\n",
       "  </thead>\n",
       "  <tbody>\n",
       "    <tr>\n",
       "      <th>0</th>\n",
       "      <td>41273590</td>\n",
       "      <td>MARIA DAS MERCES SOARES LEMOS</td>\n",
       "      <td>0</td>\n",
       "    </tr>\n",
       "    <tr>\n",
       "      <th>1</th>\n",
       "      <td>41273608</td>\n",
       "      <td>FRANCISCA SAMPAIO DE OLIVEIRA</td>\n",
       "      <td>0</td>\n",
       "    </tr>\n",
       "    <tr>\n",
       "      <th>2</th>\n",
       "      <td>41273616</td>\n",
       "      <td>ANTONIO MORAIS DA SILVA</td>\n",
       "      <td>0</td>\n",
       "    </tr>\n",
       "    <tr>\n",
       "      <th>3</th>\n",
       "      <td>41273624</td>\n",
       "      <td>FRANCISCA MIRANDA OLIVEIRA</td>\n",
       "      <td>0</td>\n",
       "    </tr>\n",
       "    <tr>\n",
       "      <th>4</th>\n",
       "      <td>41273632</td>\n",
       "      <td>C NASCIMENTO AQUINO</td>\n",
       "      <td>0</td>\n",
       "    </tr>\n",
       "    <tr>\n",
       "      <th>5</th>\n",
       "      <td>41273657</td>\n",
       "      <td>R C DE OLIVEIRA LIMA</td>\n",
       "      <td>0</td>\n",
       "    </tr>\n",
       "    <tr>\n",
       "      <th>6</th>\n",
       "      <td>41273665</td>\n",
       "      <td>NESTOR FERREIRA DA SILVA</td>\n",
       "      <td>0</td>\n",
       "    </tr>\n",
       "    <tr>\n",
       "      <th>7</th>\n",
       "      <td>41273673</td>\n",
       "      <td>ANTONIO P DA SILVA MERCEARIA</td>\n",
       "      <td>0</td>\n",
       "    </tr>\n",
       "    <tr>\n",
       "      <th>8</th>\n",
       "      <td>41273681</td>\n",
       "      <td>LUIZ DOS SANTOS COELHO</td>\n",
       "      <td>0</td>\n",
       "    </tr>\n",
       "    <tr>\n",
       "      <th>9</th>\n",
       "      <td>41273683</td>\n",
       "      <td>GUILHERME DO VALE MORAES</td>\n",
       "      <td>0</td>\n",
       "    </tr>\n",
       "  </tbody>\n",
       "</table>\n",
       "</div>"
      ],
      "text/plain": [
       "       cnpj                 corporate_name  capital\n",
       "0  41273590  MARIA DAS MERCES SOARES LEMOS        0\n",
       "1  41273608  FRANCISCA SAMPAIO DE OLIVEIRA        0\n",
       "2  41273616        ANTONIO MORAIS DA SILVA        0\n",
       "3  41273624     FRANCISCA MIRANDA OLIVEIRA        0\n",
       "4  41273632            C NASCIMENTO AQUINO        0\n",
       "5  41273657           R C DE OLIVEIRA LIMA        0\n",
       "6  41273665       NESTOR FERREIRA DA SILVA        0\n",
       "7  41273673   ANTONIO P DA SILVA MERCEARIA        0\n",
       "8  41273681         LUIZ DOS SANTOS COELHO        0\n",
       "9  41273683       GUILHERME DO VALE MORAES        0"
      ]
     },
     "execution_count": 26,
     "metadata": {},
     "output_type": "execute_result"
    }
   ],
   "source": [
    "pf = fp.ParquetFile(OUTPUT_COMPANIES)\n",
    "pf.head(10)"
   ]
  },
  {
   "cell_type": "code",
   "execution_count": 6,
   "metadata": {},
   "outputs": [],
   "source": [
    "chunk = pd.read_csv(\n",
    "    '../data/csv/empresas/empresas0.csv',\n",
    "    sep=';',\n",
    "    usecols=[4],\n",
    "    names=['capital'],\n",
    "    nrows=1000000,\n",
    "    low_memory=False      ,\n",
    "    encoding='latin-1'    ,\n",
    "    on_bad_lines='skip'   ,\n",
    ")\n",
    "\n",
    "chunk.capital = (\n",
    "    chunk.capital\n",
    "    .str\n",
    "    .replace(r',.*', '', regex=True)\n",
    "    .astype('int64')\n",
    ")"
   ]
  },
  {
   "cell_type": "code",
   "execution_count": 21,
   "metadata": {},
   "outputs": [
    {
     "data": {
      "text/html": [
       "<div>\n",
       "<style scoped>\n",
       "    .dataframe tbody tr th:only-of-type {\n",
       "        vertical-align: middle;\n",
       "    }\n",
       "\n",
       "    .dataframe tbody tr th {\n",
       "        vertical-align: top;\n",
       "    }\n",
       "\n",
       "    .dataframe thead th {\n",
       "        text-align: right;\n",
       "    }\n",
       "</style>\n",
       "<table border=\"1\" class=\"dataframe\">\n",
       "  <thead>\n",
       "    <tr style=\"text-align: right;\">\n",
       "      <th></th>\n",
       "      <th>cnpj</th>\n",
       "      <th>cnpj_order</th>\n",
       "      <th>cnpj_dv</th>\n",
       "      <th>branch</th>\n",
       "      <th>trade_name</th>\n",
       "      <th>closing_date</th>\n",
       "      <th>opening_date</th>\n",
       "      <th>cep</th>\n",
       "    </tr>\n",
       "  </thead>\n",
       "  <tbody>\n",
       "    <tr>\n",
       "      <th>0</th>\n",
       "      <td>29987225</td>\n",
       "      <td>0001</td>\n",
       "      <td>65</td>\n",
       "      <td>True</td>\n",
       "      <td>None</td>\n",
       "      <td>1903-12-11</td>\n",
       "      <td>1903-12-11</td>\n",
       "      <td>99200000.0</td>\n",
       "    </tr>\n",
       "    <tr>\n",
       "      <th>1</th>\n",
       "      <td>22244392</td>\n",
       "      <td>0001</td>\n",
       "      <td>77</td>\n",
       "      <td>True</td>\n",
       "      <td>None</td>\n",
       "      <td>1935-12-31</td>\n",
       "      <td>1935-12-31</td>\n",
       "      <td>95320000.0</td>\n",
       "    </tr>\n",
       "    <tr>\n",
       "      <th>2</th>\n",
       "      <td>21479204</td>\n",
       "      <td>0001</td>\n",
       "      <td>27</td>\n",
       "      <td>True</td>\n",
       "      <td>COMUNIDADE EVANGELICA DE NOVA BREMEN</td>\n",
       "      <td>1941-12-15</td>\n",
       "      <td>1941-12-15</td>\n",
       "      <td>89140000.0</td>\n",
       "    </tr>\n",
       "    <tr>\n",
       "      <th>3</th>\n",
       "      <td>21553560</td>\n",
       "      <td>0001</td>\n",
       "      <td>43</td>\n",
       "      <td>True</td>\n",
       "      <td>None</td>\n",
       "      <td>1947-08-21</td>\n",
       "      <td>1947-08-21</td>\n",
       "      <td>22440060.0</td>\n",
       "    </tr>\n",
       "    <tr>\n",
       "      <th>4</th>\n",
       "      <td>31971844</td>\n",
       "      <td>0001</td>\n",
       "      <td>03</td>\n",
       "      <td>True</td>\n",
       "      <td>None</td>\n",
       "      <td>1952-09-17</td>\n",
       "      <td>1952-09-17</td>\n",
       "      <td>22430190.0</td>\n",
       "    </tr>\n",
       "    <tr>\n",
       "      <th>5</th>\n",
       "      <td>27840805</td>\n",
       "      <td>0001</td>\n",
       "      <td>08</td>\n",
       "      <td>True</td>\n",
       "      <td>None</td>\n",
       "      <td>1953-11-05</td>\n",
       "      <td>1953-11-05</td>\n",
       "      <td>5652030.0</td>\n",
       "    </tr>\n",
       "    <tr>\n",
       "      <th>6</th>\n",
       "      <td>29473461</td>\n",
       "      <td>0001</td>\n",
       "      <td>63</td>\n",
       "      <td>True</td>\n",
       "      <td>CMARA DE VEREADORES DE ARATIBA/RS</td>\n",
       "      <td>1955-10-04</td>\n",
       "      <td>1955-10-04</td>\n",
       "      <td>99770000.0</td>\n",
       "    </tr>\n",
       "    <tr>\n",
       "      <th>7</th>\n",
       "      <td>22739620</td>\n",
       "      <td>0001</td>\n",
       "      <td>80</td>\n",
       "      <td>True</td>\n",
       "      <td>None</td>\n",
       "      <td>1957-01-05</td>\n",
       "      <td>1957-01-05</td>\n",
       "      <td>90460140.0</td>\n",
       "    </tr>\n",
       "    <tr>\n",
       "      <th>8</th>\n",
       "      <td>30012840</td>\n",
       "      <td>0001</td>\n",
       "      <td>35</td>\n",
       "      <td>True</td>\n",
       "      <td>PODER LEGISLATIVO DE SEBERI</td>\n",
       "      <td>1959-01-31</td>\n",
       "      <td>1959-01-31</td>\n",
       "      <td>98380000.0</td>\n",
       "    </tr>\n",
       "    <tr>\n",
       "      <th>9</th>\n",
       "      <td>26095234</td>\n",
       "      <td>0001</td>\n",
       "      <td>53</td>\n",
       "      <td>True</td>\n",
       "      <td>None</td>\n",
       "      <td>1961-02-09</td>\n",
       "      <td>1961-02-09</td>\n",
       "      <td>4052020.0</td>\n",
       "    </tr>\n",
       "  </tbody>\n",
       "</table>\n",
       "</div>"
      ],
      "text/plain": [
       "       cnpj cnpj_order cnpj_dv  branch                            trade_name  \\\n",
       "0  29987225       0001      65    True                                  None   \n",
       "1  22244392       0001      77    True                                  None   \n",
       "2  21479204       0001      27    True  COMUNIDADE EVANGELICA DE NOVA BREMEN   \n",
       "3  21553560       0001      43    True                                  None   \n",
       "4  31971844       0001      03    True                                  None   \n",
       "5  27840805       0001      08    True                                  None   \n",
       "6  29473461       0001      63    True     CMARA DE VEREADORES DE ARATIBA/RS   \n",
       "7  22739620       0001      80    True                                  None   \n",
       "8  30012840       0001      35    True           PODER LEGISLATIVO DE SEBERI   \n",
       "9  26095234       0001      53    True                                  None   \n",
       "\n",
       "  closing_date opening_date         cep  \n",
       "0   1903-12-11   1903-12-11  99200000.0  \n",
       "1   1935-12-31   1935-12-31  95320000.0  \n",
       "2   1941-12-15   1941-12-15  89140000.0  \n",
       "3   1947-08-21   1947-08-21  22440060.0  \n",
       "4   1952-09-17   1952-09-17  22430190.0  \n",
       "5   1953-11-05   1953-11-05   5652030.0  \n",
       "6   1955-10-04   1955-10-04  99770000.0  \n",
       "7   1957-01-05   1957-01-05  90460140.0  \n",
       "8   1959-01-31   1959-01-31  98380000.0  \n",
       "9   1961-02-09   1961-02-09   4052020.0  "
      ]
     },
     "execution_count": 21,
     "metadata": {},
     "output_type": "execute_result"
    }
   ],
   "source": [
    "import pyarrow.parquet as pq\n",
    "\n",
    "parquet_file = pq.ParquetFile(OUTPUT_BUSINESS)\n",
    "\n",
    "table = parquet_file.read_row_group(0)\n",
    "table.to_pandas().head(10)"
   ]
  },
  {
   "cell_type": "code",
   "execution_count": 18,
   "metadata": {},
   "outputs": [
    {
     "data": {
      "text/plain": [
       "<pyarrow._parquet.ParquetSchema object at 0x00000226B23FB040>\n",
       "required group field_id=-1 schema {\n",
       "  optional binary field_id=-1 cnpj (String);\n",
       "  optional binary field_id=-1 cnpj_order (String);\n",
       "  optional binary field_id=-1 cnpj_dv (String);\n",
       "  optional boolean field_id=-1 branch;\n",
       "  optional binary field_id=-1 trade_name (String);\n",
       "  optional int64 field_id=-1 closing_date (Timestamp(isAdjustedToUTC=false, timeUnit=nanoseconds, is_from_converted_type=false, force_set_converted_type=false));\n",
       "  optional int64 field_id=-1 opening_date (Timestamp(isAdjustedToUTC=false, timeUnit=nanoseconds, is_from_converted_type=false, force_set_converted_type=false));\n",
       "  optional binary field_id=-1 cep (String);\n",
       "}"
      ]
     },
     "execution_count": 18,
     "metadata": {},
     "output_type": "execute_result"
    }
   ],
   "source": [
    "parquet_file.schema"
   ]
  },
  {
   "cell_type": "code",
   "execution_count": 3,
   "metadata": {},
   "outputs": [
    {
     "name": "stdout",
     "output_type": "stream",
     "text": [
      "Total de row_groups: 13\n",
      "Processando row_group 0...\n",
      "Processando row_group 1...\n",
      "Processando row_group 2...\n",
      "Processando row_group 3...\n",
      "Processando row_group 4...\n",
      "Processando row_group 5...\n",
      "Processando row_group 6...\n"
     ]
    },
    {
     "name": "stderr",
     "output_type": "stream",
     "text": [
      "/tmp/ipykernel_6263/3132764133.py:19: SettingWithCopyWarning: \n",
      "A value is trying to be set on a copy of a slice from a DataFrame.\n",
      "Try using .loc[row_indexer,col_indexer] = value instead\n",
      "\n",
      "See the caveats in the documentation: https://pandas.pydata.org/pandas-docs/stable/user_guide/indexing.html#returning-a-view-versus-a-copy\n",
      "  repetidos['row_group'] = i\n"
     ]
    },
    {
     "name": "stdout",
     "output_type": "stream",
     "text": [
      "Processando row_group 7...\n",
      "Processando row_group 8...\n",
      "Processando row_group 9...\n",
      "Processando row_group 10...\n",
      "Processando row_group 11...\n",
      "Processando row_group 12...\n",
      "Duplicados dentro dos row_groups encontrados:\n",
      "       cnpj  row_group\n",
      "0  10959550          6\n",
      "1  10959550          6\n",
      "2  10959550          6\n"
     ]
    }
   ],
   "source": [
    "import pyarrow.parquet as pq\n",
    "import pandas as pd\n",
    "\n",
    "\n",
    "parquet_file = pq.ParquetFile(OUTPUT_COMPANIES)\n",
    "\n",
    "print(f'Total de row_groups: {parquet_file.num_row_groups}')\n",
    "\n",
    "duplicados_por_rg = []\n",
    "for i in range(parquet_file.num_row_groups):\n",
    "    print(f'Processando row_group {i}...')\n",
    "\n",
    "    table = parquet_file.read_row_group(i, columns=['cnpj'])\n",
    "    df = table.to_pandas()\n",
    "\n",
    "    repetidos = df[df.duplicated(subset='cnpj', keep=False)]\n",
    "\n",
    "    if not repetidos.empty:\n",
    "        repetidos['row_group'] = i\n",
    "        duplicados_por_rg.append(repetidos)\n",
    "\n",
    "if duplicados_por_rg:\n",
    "    repetidos_final = pd.concat(duplicados_por_rg, ignore_index=True)\n",
    "    print('Duplicados dentro dos row_groups encontrados:')\n",
    "    print(repetidos_final)\n",
    "else:\n",
    "    print('Nenhum CNPJ duplicado dentro dos row_groups foi encontrado.')\n"
   ]
  },
  {
   "cell_type": "code",
   "execution_count": 3,
   "metadata": {},
   "outputs": [
    {
     "name": "stdout",
     "output_type": "stream",
     "text": [
      "                                  trade_name\n",
      "25793726  EMPREITEIRA DE MAO DE OBRA ESTRELA\n",
      "5409036                  CARDOSO IMOBILIARIA\n",
      "12401990          LATICINIO SITIO MANGUEIRAL\n"
     ]
    }
   ],
   "source": [
    "business = pd.read_parquet(OUTPUT_BUSINESS, columns=['trade_name'])\n",
    "\n",
    "print(business[business.trade_name.notnull()].sample(3))"
   ]
  },
  {
   "cell_type": "code",
   "execution_count": 7,
   "metadata": {},
   "outputs": [
    {
     "name": "stdout",
     "output_type": "stream",
     "text": [
      "                     trade_name\n",
      "22283709        GARDENIAQUEIROZ\n",
      "19473901   COMERCIAL CARANGUEJO\n",
      "10120327  ESTAMPARIA SO VITORIA\n"
     ]
    }
   ],
   "source": [
    "import pyarrow.parquet as pq\n",
    "import pyarrow.compute as pc\n",
    "\n",
    "\n",
    "table = pq.read_table(OUTPUT_BUSINESS, columns=['trade_name'])\n",
    "\n",
    "# Aplica filtro para linhas onde trade_name não é nulo\n",
    "filtered_table = table.filter(pc.field('trade_name').is_valid())\n",
    "\n",
    "# Converte para pandas DataFrame\n",
    "df_filtered = filtered_table.to_pandas().sample(3)\n",
    "\n",
    "print(df_filtered)\n"
   ]
  },
  {
   "cell_type": "code",
   "execution_count": 17,
   "metadata": {},
   "outputs": [
    {
     "data": {
      "text/plain": [
       "22283709          GARDENIAQUEIROZ\n",
       "19473901     COMERCIAL CARANGUEJO\n",
       "10120327    ESTAMPARIA SO VITORIA\n",
       "Name: trade_name, dtype: object"
      ]
     },
     "execution_count": 17,
     "metadata": {},
     "output_type": "execute_result"
    }
   ],
   "source": [
    "df_filtered.trade_name"
   ]
  },
  {
   "cell_type": "code",
   "execution_count": 4,
   "metadata": {},
   "outputs": [
    {
     "data": {
      "text/plain": [
       "cnpj_order    9999\n",
       "dtype: int16"
      ]
     },
     "execution_count": 4,
     "metadata": {},
     "output_type": "execute_result"
    }
   ],
   "source": [
    "business.max()"
   ]
  },
  {
   "cell_type": "code",
   "execution_count": 10,
   "metadata": {},
   "outputs": [
    {
     "data": {
      "text/plain": [
       "3"
      ]
     },
     "execution_count": 10,
     "metadata": {},
     "output_type": "execute_result"
    }
   ],
   "source": [
    "len(repetidos)"
   ]
  },
  {
   "cell_type": "code",
   "execution_count": null,
   "metadata": {},
   "outputs": [],
   "source": [
    "duplicated_cnpjs = companies[companies.duplicated(subset='cnpj', keep=False)]['cnpj']\n",
    "\n",
    "print(duplicated_cnpjs)"
   ]
  },
  {
   "cell_type": "code",
   "execution_count": 15,
   "metadata": {},
   "outputs": [
    {
     "data": {
      "text/html": [
       "<div>\n",
       "<style scoped>\n",
       "    .dataframe tbody tr th:only-of-type {\n",
       "        vertical-align: middle;\n",
       "    }\n",
       "\n",
       "    .dataframe tbody tr th {\n",
       "        vertical-align: top;\n",
       "    }\n",
       "\n",
       "    .dataframe thead th {\n",
       "        text-align: right;\n",
       "    }\n",
       "</style>\n",
       "<table border=\"1\" class=\"dataframe\">\n",
       "  <thead>\n",
       "    <tr style=\"text-align: right;\">\n",
       "      <th></th>\n",
       "      <th>cnpj</th>\n",
       "      <th>name_partner</th>\n",
       "      <th>start_date</th>\n",
       "    </tr>\n",
       "  </thead>\n",
       "  <tbody>\n",
       "    <tr>\n",
       "      <th>8</th>\n",
       "      <td>2450527</td>\n",
       "      <td>!</td>\n",
       "      <td>19010101</td>\n",
       "    </tr>\n",
       "    <tr>\n",
       "      <th>2048975</th>\n",
       "      <td>2327780</td>\n",
       "      <td>S</td>\n",
       "      <td>19980109</td>\n",
       "    </tr>\n",
       "  </tbody>\n",
       "</table>\n",
       "</div>"
      ],
      "text/plain": [
       "            cnpj name_partner  start_date\n",
       "8        2450527            !    19010101\n",
       "2048975  2327780            S    19980109"
      ]
     },
     "execution_count": 15,
     "metadata": {},
     "output_type": "execute_result"
    }
   ],
   "source": [
    "partners[partners.name_partner.str.len() < 3]"
   ]
  },
  {
   "cell_type": "code",
   "execution_count": null,
   "metadata": {},
   "outputs": [],
   "source": [
    "# ==============================================================\n",
    "# PART 4 - Reload both files and rewrite with higher compression\n",
    "# ==============================================================\n",
    "print('Rewriting parquet files with pyarrow compression...')\n",
    "\n",
    "\n",
    "partners.sort_values(\n",
    "    by=[\n",
    "        'start_date'  ,\n",
    "        'name_partner',\n",
    "    ],\n",
    "    inplace=True,\n",
    ")\n",
    "partners.to_parquet(\n",
    "    OUTPUT_PARTNERS ,\n",
    "    engine='pyarrow',\n",
    "    index=False     ,\n",
    ")\n",
    "\n",
    "del partners\n",
    "\n",
    "\n",
    "business = pd.read_parquet(OUTPUT_BUSINESS)\n",
    "\n",
    "business.sort_values(\n",
    "    by=[\n",
    "        'closing_date',\n",
    "        'opening_date',\n",
    "        'cep'         ,\n",
    "    ],\n",
    "    inplace=True,\n",
    ")\n",
    "business.to_parquet(\n",
    "    OUTPUT_BUSINESS ,\n",
    "    engine='pyarrow',\n",
    "    index=False     ,\n",
    ")\n",
    "\n",
    "del business\n"
   ]
  },
  {
   "cell_type": "markdown",
   "metadata": {},
   "source": [
    "## PREPARING THE ENVIRONMENT"
   ]
  },
  {
   "cell_type": "markdown",
   "metadata": {},
   "source": [
    "## BIPARTITE GRAPH"
   ]
  },
  {
   "cell_type": "markdown",
   "metadata": {},
   "source": [
    "Generating the bipartite graph:"
   ]
  },
  {
   "cell_type": "code",
   "execution_count": 3,
   "metadata": {},
   "outputs": [
    {
     "name": "stdout",
     "output_type": "stream",
     "text": [
      "Number of rows processed = 1000000\n",
      "Number of rows processed = 2000000\n",
      "Number of rows processed = 3000000\n",
      "Number of rows processed = 4000000\n",
      "Number of rows processed = 5000000\n",
      "Number of rows processed = 6000000\n",
      "Number of rows processed = 7000000\n",
      "Number of rows processed = 8000000\n",
      "Number of rows processed = 9000000\n",
      "Number of rows processed = 10000000\n",
      "Number of rows processed = 11000000\n",
      "Number of rows processed = 12000000\n",
      "Number of rows processed = 13000000\n",
      "Number of rows processed = 14000000\n",
      "Number of rows processed = 15000000\n",
      "Number of rows processed = 16000000\n",
      "Number of rows processed = 17000000\n",
      "Number of rows processed = 18000000\n",
      "Number of rows processed = 19000000\n",
      "Number of rows processed = 20000000\n",
      "Number of rows processed = 21000000\n",
      "Number of rows processed = 22000000\n",
      "Number of rows processed = 23000000\n",
      "Number of rows processed = 24000000\n",
      "Number of rows processed = 25000000\n"
     ]
    }
   ],
   "source": [
    "cnpj2id    = {}\n",
    "partner2id = {}\n",
    "adjdict    = defaultdict(list)\n",
    "\n",
    "cnpj_id  = 0\n",
    "cnpj_idx = 0\n",
    "partner_id  = 0\n",
    "partner_idx = 0\n",
    "\n",
    "for idx, (cnpj, partner) in enumerate(partners.itertuples(index=False)):\n",
    "    if cnpj not in cnpj2id:\n",
    "        cnpj_idx  = cnpj_id\n",
    "        cnpj_id  += 1\n",
    "\n",
    "        cnpj2id[cnpj] = cnpj_idx\n",
    "    else:\n",
    "        cnpj_idx = cnpj2id[cnpj]\n",
    "\n",
    "    if partner not in partner2id:\n",
    "        partner_idx  = partner_id\n",
    "        partner_id  += 1\n",
    "\n",
    "        partner2id[partner] = partner_idx\n",
    "    else:\n",
    "        partner_idx = partner2id[partner]\n",
    "\n",
    "    adjdict[cnpj_idx].append(partner_idx)\n",
    "\n",
    "    if idx % 1000000 == 999999:\n",
    "        print('Number of rows processed =', idx + 1)"
   ]
  },
  {
   "cell_type": "markdown",
   "metadata": {},
   "source": [
    "Optimizing the data structure of the adjacency list:"
   ]
  },
  {
   "cell_type": "code",
   "execution_count": 4,
   "metadata": {},
   "outputs": [],
   "source": [
    "adjacency = [[]] * len(adjdict)\n",
    "\n",
    "for k, v in adjdict.items():\n",
    "    adjacency[k] = v\n",
    "\n",
    "del adjdict"
   ]
  },
  {
   "cell_type": "markdown",
   "metadata": {},
   "source": [
    "Saving the data:"
   ]
  },
  {
   "cell_type": "code",
   "execution_count": 5,
   "metadata": {},
   "outputs": [],
   "source": [
    "with open('../data/cnpj2id.pkl'   , 'wb') as f:\n",
    "    pickle.dump(cnpj2id   , f)\n",
    "\n",
    "with open('../data/partner2id.pkl', 'wb') as f:\n",
    "    pickle.dump(partner2id, f)\n",
    "\n",
    "with open('../data/adjacency.pkl' , 'wb') as f:\n",
    "    pickle.dump(adjacency , f)"
   ]
  },
  {
   "cell_type": "markdown",
   "metadata": {},
   "source": [
    "Freeing the memory of objects:"
   ]
  },
  {
   "cell_type": "code",
   "execution_count": 6,
   "metadata": {},
   "outputs": [],
   "source": [
    "del cnpj2id\n",
    "del partner2id\n",
    "del adjacency"
   ]
  },
  {
   "cell_type": "markdown",
   "metadata": {},
   "source": [
    "## EXPLORING THE RESULTS"
   ]
  },
  {
   "cell_type": "markdown",
   "metadata": {},
   "source": [
    "Checking the number of companies and partners:"
   ]
  },
  {
   "cell_type": "code",
   "execution_count": 7,
   "metadata": {},
   "outputs": [
    {
     "name": "stdout",
     "output_type": "stream",
     "text": [
      "Number of companies in the 'partners' file = 14441622\n",
      "Number of partners  in the 'partners' file = 14686766\n"
     ]
    }
   ],
   "source": [
    "print('Number of companies in the \\'partners\\' file =', partners.cnpj.nunique())\n",
    "print('Number of partners  in the \\'partners\\' file =', partners.name_partner.nunique())"
   ]
  },
  {
   "cell_type": "markdown",
   "metadata": {},
   "source": [
    "Freeing up resources:"
   ]
  },
  {
   "cell_type": "code",
   "execution_count": 8,
   "metadata": {},
   "outputs": [],
   "source": [
    "del partners"
   ]
  },
  {
   "cell_type": "markdown",
   "metadata": {},
   "source": [
    "Loading the data:"
   ]
  },
  {
   "cell_type": "code",
   "execution_count": 9,
   "metadata": {},
   "outputs": [],
   "source": [
    "with open('../data/cnpj2id.pkl'   , 'rb') as f:\n",
    "    cnpj2id = pickle.load(f)\n",
    "\n",
    "with open('../data/partner2id.pkl', 'rb') as f:\n",
    "    partner2id = pickle.load(f)\n",
    "\n",
    "with open('../data/adjacency.pkl' , 'rb') as f:\n",
    "    adjacency = pickle.load(f)"
   ]
  },
  {
   "cell_type": "markdown",
   "metadata": {},
   "source": [
    "Confirming the number of companies and partners:"
   ]
  },
  {
   "cell_type": "code",
   "execution_count": 10,
   "metadata": {},
   "outputs": [
    {
     "name": "stdout",
     "output_type": "stream",
     "text": [
      "Number of companies in the 'cnpj2id'    file = 14441622\n",
      "Number of partners  in the 'partner2id' file = 14686766\n"
     ]
    }
   ],
   "source": [
    "print('Number of companies in the \\'cnpj2id\\'    file =', len(cnpj2id   ))\n",
    "print('Number of partners  in the \\'partner2id\\' file =', len(partner2id))"
   ]
  },
  {
   "cell_type": "markdown",
   "metadata": {},
   "source": [
    "Obtaining the partners of a given company:"
   ]
  },
  {
   "cell_type": "code",
   "execution_count": 11,
   "metadata": {},
   "outputs": [
    {
     "name": "stdout",
     "output_type": "stream",
     "text": [
      "CNPJ members 85061877:\n",
      "\n",
      "RICARDO BAULE ROSSI\n",
      "EDUARDO GUILHERME BAULE ROSSI\n"
     ]
    }
   ],
   "source": [
    "CNPJ = 85061877\n",
    "\n",
    "\n",
    "idx      = cnpj2id[CNPJ]\n",
    "partners = set(adjacency[idx])\n",
    "\n",
    "print(f'CNPJ members {CNPJ}:')\n",
    "print()\n",
    "for nome, idx in partner2id.items():\n",
    "    if idx in partners:\n",
    "        partners.remove(idx)\n",
    "\n",
    "        print(nome)\n",
    "\n",
    "    if not partners:\n",
    "        break"
   ]
  }
 ],
 "metadata": {
  "kernelspec": {
   "display_name": ".venv",
   "language": "python",
   "name": "python3"
  },
  "language_info": {
   "codemirror_mode": {
    "name": "ipython",
    "version": 3
   },
   "file_extension": ".py",
   "mimetype": "text/x-python",
   "name": "python",
   "nbconvert_exporter": "python",
   "pygments_lexer": "ipython3",
   "version": "3.13.5"
  }
 },
 "nbformat": 4,
 "nbformat_minor": 2
}
