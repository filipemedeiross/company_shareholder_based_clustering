{
 "cells": [
  {
   "cell_type": "markdown",
   "metadata": {},
   "source": [
    "# BIPARTITE GRAPH"
   ]
  },
  {
   "cell_type": "markdown",
   "metadata": {},
   "source": [
    "## PREPARING THE ENVIRONMENT"
   ]
  },
  {
   "cell_type": "markdown",
   "metadata": {},
   "source": [
    "Importing the libraries:"
   ]
  },
  {
   "cell_type": "code",
   "execution_count": 1,
   "metadata": {},
   "outputs": [],
   "source": [
    "import pickle\n",
    "import pandas as pd\n",
    "\n",
    "from collections import defaultdict"
   ]
  },
  {
   "cell_type": "markdown",
   "metadata": {},
   "source": [
    "Loading the data:"
   ]
  },
  {
   "cell_type": "code",
   "execution_count": 2,
   "metadata": {},
   "outputs": [
    {
     "data": {
      "text/html": [
       "<div>\n",
       "<style scoped>\n",
       "    .dataframe tbody tr th:only-of-type {\n",
       "        vertical-align: middle;\n",
       "    }\n",
       "\n",
       "    .dataframe tbody tr th {\n",
       "        vertical-align: top;\n",
       "    }\n",
       "\n",
       "    .dataframe thead th {\n",
       "        text-align: right;\n",
       "    }\n",
       "</style>\n",
       "<table border=\"1\" class=\"dataframe\">\n",
       "  <thead>\n",
       "    <tr style=\"text-align: right;\">\n",
       "      <th></th>\n",
       "      <th>cnpj</th>\n",
       "      <th>name_partner</th>\n",
       "      <th>partnership_start</th>\n",
       "    </tr>\n",
       "  </thead>\n",
       "  <tbody>\n",
       "    <tr>\n",
       "      <th>0</th>\n",
       "      <td>1685190</td>\n",
       "      <td>JUSSARA PAZIN</td>\n",
       "      <td>1997-02-24</td>\n",
       "    </tr>\n",
       "    <tr>\n",
       "      <th>1</th>\n",
       "      <td>1685190</td>\n",
       "      <td>ANTONIO PAZIN</td>\n",
       "      <td>1999-10-06</td>\n",
       "    </tr>\n",
       "    <tr>\n",
       "      <th>2</th>\n",
       "      <td>92859388</td>\n",
       "      <td>ARI JOAO MARIA</td>\n",
       "      <td>2005-09-12</td>\n",
       "    </tr>\n",
       "    <tr>\n",
       "      <th>3</th>\n",
       "      <td>92859636</td>\n",
       "      <td>JOSE CARLOS LIMA</td>\n",
       "      <td>2005-09-12</td>\n",
       "    </tr>\n",
       "    <tr>\n",
       "      <th>4</th>\n",
       "      <td>92859677</td>\n",
       "      <td>EGON ROBERTO STRASSBURGER</td>\n",
       "      <td>1989-06-09</td>\n",
       "    </tr>\n",
       "  </tbody>\n",
       "</table>\n",
       "</div>"
      ],
      "text/plain": [
       "       cnpj               name_partner partnership_start\n",
       "0   1685190              JUSSARA PAZIN        1997-02-24\n",
       "1   1685190              ANTONIO PAZIN        1999-10-06\n",
       "2  92859388             ARI JOAO MARIA        2005-09-12\n",
       "3  92859636           JOSE CARLOS LIMA        2005-09-12\n",
       "4  92859677  EGON ROBERTO STRASSBURGER        1989-06-09"
      ]
     },
     "execution_count": 2,
     "metadata": {},
     "output_type": "execute_result"
    }
   ],
   "source": [
    "partners = pd.read_parquet('../data/parquet/partners.parquet')\n",
    "\n",
    "partners.head()"
   ]
  },
  {
   "cell_type": "code",
   "execution_count": 4,
   "metadata": {},
   "outputs": [
    {
     "data": {
      "text/html": [
       "<div>\n",
       "<style scoped>\n",
       "    .dataframe tbody tr th:only-of-type {\n",
       "        vertical-align: middle;\n",
       "    }\n",
       "\n",
       "    .dataframe tbody tr th {\n",
       "        vertical-align: top;\n",
       "    }\n",
       "\n",
       "    .dataframe thead th {\n",
       "        text-align: right;\n",
       "    }\n",
       "</style>\n",
       "<table border=\"1\" class=\"dataframe\">\n",
       "  <thead>\n",
       "    <tr style=\"text-align: right;\">\n",
       "      <th></th>\n",
       "      <th>cnpj</th>\n",
       "      <th>name_partner</th>\n",
       "      <th>partnership_start</th>\n",
       "    </tr>\n",
       "  </thead>\n",
       "  <tbody>\n",
       "    <tr>\n",
       "      <th>0</th>\n",
       "      <td>1685190</td>\n",
       "      <td>JUSSARA PAZIN</td>\n",
       "      <td>1997-02-24</td>\n",
       "    </tr>\n",
       "    <tr>\n",
       "      <th>1</th>\n",
       "      <td>1685190</td>\n",
       "      <td>ANTONIO PAZIN</td>\n",
       "      <td>1999-10-06</td>\n",
       "    </tr>\n",
       "    <tr>\n",
       "      <th>2</th>\n",
       "      <td>92859388</td>\n",
       "      <td>ARI JOAO MARIA</td>\n",
       "      <td>2005-09-12</td>\n",
       "    </tr>\n",
       "    <tr>\n",
       "      <th>3</th>\n",
       "      <td>92859636</td>\n",
       "      <td>JOSE CARLOS LIMA</td>\n",
       "      <td>2005-09-12</td>\n",
       "    </tr>\n",
       "    <tr>\n",
       "      <th>4</th>\n",
       "      <td>92859677</td>\n",
       "      <td>EGON ROBERTO STRASSBURGER</td>\n",
       "      <td>1989-06-09</td>\n",
       "    </tr>\n",
       "    <tr>\n",
       "      <th>5</th>\n",
       "      <td>92859677</td>\n",
       "      <td>MARIA IVONETE SANTIAGO STRASSBURGER</td>\n",
       "      <td>1989-06-09</td>\n",
       "    </tr>\n",
       "    <tr>\n",
       "      <th>6</th>\n",
       "      <td>4979683</td>\n",
       "      <td>LELIANA ABBUD MARCONDES</td>\n",
       "      <td>2002-03-27</td>\n",
       "    </tr>\n",
       "    <tr>\n",
       "      <th>7</th>\n",
       "      <td>4979683</td>\n",
       "      <td>MARIA APARECIDA ABBUD</td>\n",
       "      <td>2004-11-03</td>\n",
       "    </tr>\n",
       "    <tr>\n",
       "      <th>8</th>\n",
       "      <td>4979687</td>\n",
       "      <td>ANTONIO CASSIMIRO SOBRINHO</td>\n",
       "      <td>2002-02-25</td>\n",
       "    </tr>\n",
       "    <tr>\n",
       "      <th>9</th>\n",
       "      <td>4979687</td>\n",
       "      <td>WANDERLEI NOGUEIRA CASSIMIRO</td>\n",
       "      <td>2002-02-25</td>\n",
       "    </tr>\n",
       "    <tr>\n",
       "      <th>10</th>\n",
       "      <td>3336027</td>\n",
       "      <td>EDMILSON ANTONIO DOS SANTOS</td>\n",
       "      <td>2005-09-12</td>\n",
       "    </tr>\n",
       "    <tr>\n",
       "      <th>11</th>\n",
       "      <td>1685220</td>\n",
       "      <td>MARCELO GALIAS BUENO</td>\n",
       "      <td>1997-02-04</td>\n",
       "    </tr>\n",
       "    <tr>\n",
       "      <th>12</th>\n",
       "      <td>1685220</td>\n",
       "      <td>LUCIA HELENA MENEGHETE</td>\n",
       "      <td>1997-02-04</td>\n",
       "    </tr>\n",
       "    <tr>\n",
       "      <th>13</th>\n",
       "      <td>1685226</td>\n",
       "      <td>LUIS CARLOS SILVA DE FARIA</td>\n",
       "      <td>2003-09-25</td>\n",
       "    </tr>\n",
       "    <tr>\n",
       "      <th>14</th>\n",
       "      <td>1685226</td>\n",
       "      <td>PEEKY AMERICA, INC</td>\n",
       "      <td>2001-01-27</td>\n",
       "    </tr>\n",
       "    <tr>\n",
       "      <th>15</th>\n",
       "      <td>4979710</td>\n",
       "      <td>LARISSA FERNANDES TONINI</td>\n",
       "      <td>2004-03-16</td>\n",
       "    </tr>\n",
       "    <tr>\n",
       "      <th>16</th>\n",
       "      <td>4979710</td>\n",
       "      <td>GERSON FERNANDES DE CARVALHO JUNIOR</td>\n",
       "      <td>2004-03-16</td>\n",
       "    </tr>\n",
       "    <tr>\n",
       "      <th>17</th>\n",
       "      <td>4979713</td>\n",
       "      <td>NEUZA MARIA AMARAL</td>\n",
       "      <td>2002-03-12</td>\n",
       "    </tr>\n",
       "    <tr>\n",
       "      <th>18</th>\n",
       "      <td>4979713</td>\n",
       "      <td>SEBASTIAO FIRMINO DOS SANTOS SOBRINHO</td>\n",
       "      <td>2002-03-12</td>\n",
       "    </tr>\n",
       "    <tr>\n",
       "      <th>19</th>\n",
       "      <td>92860113</td>\n",
       "      <td>IVETE RIVA TURRA</td>\n",
       "      <td>2024-07-17</td>\n",
       "    </tr>\n",
       "  </tbody>\n",
       "</table>\n",
       "</div>"
      ],
      "text/plain": [
       "        cnpj                           name_partner partnership_start\n",
       "0    1685190                          JUSSARA PAZIN        1997-02-24\n",
       "1    1685190                          ANTONIO PAZIN        1999-10-06\n",
       "2   92859388                         ARI JOAO MARIA        2005-09-12\n",
       "3   92859636                       JOSE CARLOS LIMA        2005-09-12\n",
       "4   92859677              EGON ROBERTO STRASSBURGER        1989-06-09\n",
       "5   92859677    MARIA IVONETE SANTIAGO STRASSBURGER        1989-06-09\n",
       "6    4979683                LELIANA ABBUD MARCONDES        2002-03-27\n",
       "7    4979683                  MARIA APARECIDA ABBUD        2004-11-03\n",
       "8    4979687             ANTONIO CASSIMIRO SOBRINHO        2002-02-25\n",
       "9    4979687           WANDERLEI NOGUEIRA CASSIMIRO        2002-02-25\n",
       "10   3336027            EDMILSON ANTONIO DOS SANTOS        2005-09-12\n",
       "11   1685220                   MARCELO GALIAS BUENO        1997-02-04\n",
       "12   1685220                 LUCIA HELENA MENEGHETE        1997-02-04\n",
       "13   1685226             LUIS CARLOS SILVA DE FARIA        2003-09-25\n",
       "14   1685226                     PEEKY AMERICA, INC        2001-01-27\n",
       "15   4979710               LARISSA FERNANDES TONINI        2004-03-16\n",
       "16   4979710    GERSON FERNANDES DE CARVALHO JUNIOR        2004-03-16\n",
       "17   4979713                     NEUZA MARIA AMARAL        2002-03-12\n",
       "18   4979713  SEBASTIAO FIRMINO DOS SANTOS SOBRINHO        2002-03-12\n",
       "19  92860113                       IVETE RIVA TURRA        2024-07-17"
      ]
     },
     "execution_count": 4,
     "metadata": {},
     "output_type": "execute_result"
    }
   ],
   "source": [
    "partners.head(20)"
   ]
  },
  {
   "cell_type": "code",
   "execution_count": 3,
   "metadata": {},
   "outputs": [
    {
     "data": {
      "text/plain": [
       "25938492"
      ]
     },
     "execution_count": 3,
     "metadata": {},
     "output_type": "execute_result"
    }
   ],
   "source": [
    "len(partners)"
   ]
  },
  {
   "cell_type": "code",
   "execution_count": null,
   "metadata": {},
   "outputs": [],
   "source": []
  },
  {
   "cell_type": "code",
   "execution_count": null,
   "metadata": {},
   "outputs": [],
   "source": []
  },
  {
   "cell_type": "markdown",
   "metadata": {},
   "source": [
    "## BIPARTITE GRAPH"
   ]
  },
  {
   "cell_type": "markdown",
   "metadata": {},
   "source": [
    "Generating the bipartite graph:"
   ]
  },
  {
   "cell_type": "code",
   "execution_count": 3,
   "metadata": {},
   "outputs": [
    {
     "name": "stdout",
     "output_type": "stream",
     "text": [
      "Number of rows processed = 1000000\n",
      "Number of rows processed = 2000000\n",
      "Number of rows processed = 3000000\n",
      "Number of rows processed = 4000000\n",
      "Number of rows processed = 5000000\n",
      "Number of rows processed = 6000000\n",
      "Number of rows processed = 7000000\n",
      "Number of rows processed = 8000000\n",
      "Number of rows processed = 9000000\n",
      "Number of rows processed = 10000000\n",
      "Number of rows processed = 11000000\n",
      "Number of rows processed = 12000000\n",
      "Number of rows processed = 13000000\n",
      "Number of rows processed = 14000000\n",
      "Number of rows processed = 15000000\n",
      "Number of rows processed = 16000000\n",
      "Number of rows processed = 17000000\n",
      "Number of rows processed = 18000000\n",
      "Number of rows processed = 19000000\n",
      "Number of rows processed = 20000000\n",
      "Number of rows processed = 21000000\n",
      "Number of rows processed = 22000000\n",
      "Number of rows processed = 23000000\n",
      "Number of rows processed = 24000000\n",
      "Number of rows processed = 25000000\n"
     ]
    }
   ],
   "source": [
    "cnpj2id    = {}\n",
    "partner2id = {}\n",
    "adjdict    = defaultdict(list)\n",
    "\n",
    "cnpj_id  = 0\n",
    "cnpj_idx = 0\n",
    "partner_id  = 0\n",
    "partner_idx = 0\n",
    "\n",
    "for idx, (cnpj, partner) in enumerate(partners.itertuples(index=False)):\n",
    "    if cnpj not in cnpj2id:\n",
    "        cnpj_idx  = cnpj_id\n",
    "        cnpj_id  += 1\n",
    "\n",
    "        cnpj2id[cnpj] = cnpj_idx\n",
    "    else:\n",
    "        cnpj_idx = cnpj2id[cnpj]\n",
    "\n",
    "    if partner not in partner2id:\n",
    "        partner_idx  = partner_id\n",
    "        partner_id  += 1\n",
    "\n",
    "        partner2id[partner] = partner_idx\n",
    "    else:\n",
    "        partner_idx = partner2id[partner]\n",
    "\n",
    "    adjdict[cnpj_idx].append(partner_idx)\n",
    "\n",
    "    if idx % 1000000 == 999999:\n",
    "        print('Number of rows processed =', idx + 1)"
   ]
  },
  {
   "cell_type": "markdown",
   "metadata": {},
   "source": [
    "Optimizing the data structure of the adjacency list:"
   ]
  },
  {
   "cell_type": "code",
   "execution_count": 4,
   "metadata": {},
   "outputs": [],
   "source": [
    "adjacency = [[]] * len(adjdict)\n",
    "\n",
    "for k, v in adjdict.items():\n",
    "    adjacency[k] = v\n",
    "\n",
    "del adjdict"
   ]
  },
  {
   "cell_type": "markdown",
   "metadata": {},
   "source": [
    "Saving the data:"
   ]
  },
  {
   "cell_type": "code",
   "execution_count": 5,
   "metadata": {},
   "outputs": [],
   "source": [
    "with open('../data/cnpj2id.pkl'   , 'wb') as f:\n",
    "    pickle.dump(cnpj2id   , f)\n",
    "\n",
    "with open('../data/partner2id.pkl', 'wb') as f:\n",
    "    pickle.dump(partner2id, f)\n",
    "\n",
    "with open('../data/adjacency.pkl' , 'wb') as f:\n",
    "    pickle.dump(adjacency , f)"
   ]
  },
  {
   "cell_type": "markdown",
   "metadata": {},
   "source": [
    "Freeing the memory of objects:"
   ]
  },
  {
   "cell_type": "code",
   "execution_count": 6,
   "metadata": {},
   "outputs": [],
   "source": [
    "del cnpj2id\n",
    "del partner2id\n",
    "del adjacency"
   ]
  },
  {
   "cell_type": "markdown",
   "metadata": {},
   "source": [
    "## EXPLORING THE RESULTS"
   ]
  },
  {
   "cell_type": "markdown",
   "metadata": {},
   "source": [
    "Checking the number of companies and partners:"
   ]
  },
  {
   "cell_type": "code",
   "execution_count": 7,
   "metadata": {},
   "outputs": [
    {
     "name": "stdout",
     "output_type": "stream",
     "text": [
      "Number of companies in the 'partners' file = 14441622\n",
      "Number of partners  in the 'partners' file = 14686766\n"
     ]
    }
   ],
   "source": [
    "print('Number of companies in the \\'partners\\' file =', partners.cnpj.nunique())\n",
    "print('Number of partners  in the \\'partners\\' file =', partners.name_partner.nunique())"
   ]
  },
  {
   "cell_type": "markdown",
   "metadata": {},
   "source": [
    "Freeing up resources:"
   ]
  },
  {
   "cell_type": "code",
   "execution_count": 8,
   "metadata": {},
   "outputs": [],
   "source": [
    "del partners"
   ]
  },
  {
   "cell_type": "markdown",
   "metadata": {},
   "source": [
    "Loading the data:"
   ]
  },
  {
   "cell_type": "code",
   "execution_count": 9,
   "metadata": {},
   "outputs": [],
   "source": [
    "with open('../data/cnpj2id.pkl'   , 'rb') as f:\n",
    "    cnpj2id = pickle.load(f)\n",
    "\n",
    "with open('../data/partner2id.pkl', 'rb') as f:\n",
    "    partner2id = pickle.load(f)\n",
    "\n",
    "with open('../data/adjacency.pkl' , 'rb') as f:\n",
    "    adjacency = pickle.load(f)"
   ]
  },
  {
   "cell_type": "markdown",
   "metadata": {},
   "source": [
    "Confirming the number of companies and partners:"
   ]
  },
  {
   "cell_type": "code",
   "execution_count": 10,
   "metadata": {},
   "outputs": [
    {
     "name": "stdout",
     "output_type": "stream",
     "text": [
      "Number of companies in the 'cnpj2id'    file = 14441622\n",
      "Number of partners  in the 'partner2id' file = 14686766\n"
     ]
    }
   ],
   "source": [
    "print('Number of companies in the \\'cnpj2id\\'    file =', len(cnpj2id   ))\n",
    "print('Number of partners  in the \\'partner2id\\' file =', len(partner2id))"
   ]
  },
  {
   "cell_type": "markdown",
   "metadata": {},
   "source": [
    "Obtaining the partners of a given company:"
   ]
  },
  {
   "cell_type": "code",
   "execution_count": 11,
   "metadata": {},
   "outputs": [
    {
     "name": "stdout",
     "output_type": "stream",
     "text": [
      "CNPJ members 85061877:\n",
      "\n",
      "RICARDO BAULE ROSSI\n",
      "EDUARDO GUILHERME BAULE ROSSI\n"
     ]
    }
   ],
   "source": [
    "CNPJ = 85061877\n",
    "\n",
    "\n",
    "idx      = cnpj2id[CNPJ]\n",
    "partners = set(adjacency[idx])\n",
    "\n",
    "print(f'CNPJ members {CNPJ}:')\n",
    "print()\n",
    "for nome, idx in partner2id.items():\n",
    "    if idx in partners:\n",
    "        partners.remove(idx)\n",
    "\n",
    "        print(nome)\n",
    "\n",
    "    if not partners:\n",
    "        break"
   ]
  }
 ],
 "metadata": {
  "kernelspec": {
   "display_name": ".venv",
   "language": "python",
   "name": "python3"
  },
  "language_info": {
   "codemirror_mode": {
    "name": "ipython",
    "version": 3
   },
   "file_extension": ".py",
   "mimetype": "text/x-python",
   "name": "python",
   "nbconvert_exporter": "python",
   "pygments_lexer": "ipython3",
   "version": "3.13.5"
  }
 },
 "nbformat": 4,
 "nbformat_minor": 2
}
