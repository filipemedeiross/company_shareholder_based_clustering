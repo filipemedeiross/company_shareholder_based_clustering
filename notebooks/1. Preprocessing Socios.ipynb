{
 "cells": [
  {
   "cell_type": "markdown",
   "metadata": {},
   "source": [
    "# PRE-PROCESSING THE DATA"
   ]
  },
  {
   "cell_type": "markdown",
   "metadata": {},
   "source": [
    "## PREPARING THE ENVIRONMENT"
   ]
  },
  {
   "cell_type": "markdown",
   "metadata": {},
   "source": [
    "Importing the libraries:"
   ]
  },
  {
   "cell_type": "code",
   "execution_count": 1,
   "metadata": {},
   "outputs": [],
   "source": [
    "import pandas as pd"
   ]
  },
  {
   "cell_type": "markdown",
   "metadata": {},
   "source": [
    "Defining the constants:"
   ]
  },
  {
   "cell_type": "code",
   "execution_count": 2,
   "metadata": {},
   "outputs": [],
   "source": [
    "COLS  = [0, 2]\n",
    "NAMES = ['cnpj', 'name_partner']"
   ]
  },
  {
   "cell_type": "markdown",
   "metadata": {},
   "source": [
    "## PRE-PROCESSING THE DATA"
   ]
  },
  {
   "cell_type": "markdown",
   "metadata": {},
   "source": [
    "Pre-processing the data to unify the files and filter the columns of interest:"
   ]
  },
  {
   "cell_type": "code",
   "execution_count": 3,
   "metadata": {},
   "outputs": [
    {
     "name": "stdout",
     "output_type": "stream",
     "text": [
      "Reading ../data/socios/socios0.csv\n",
      "Reading ../data/socios/socios1.csv\n",
      "Reading ../data/socios/socios2.csv\n",
      "Reading ../data/socios/socios3.csv\n",
      "Reading ../data/socios/socios4.csv\n",
      "Reading ../data/socios/socios5.csv\n",
      "Reading ../data/socios/socios6.csv\n",
      "Reading ../data/socios/socios7.csv\n",
      "Reading ../data/socios/socios8.csv\n",
      "Reading ../data/socios/socios9.csv\n"
     ]
    }
   ],
   "source": [
    "OUTPUT_PATH = '../data/partners.parquet'\n",
    "\n",
    "\n",
    "dataframes = []\n",
    "for i in range(10):\n",
    "    file_path = f'../data/socios/socios{i}.csv'\n",
    "\n",
    "    print('Reading', file_path)\n",
    "\n",
    "    df = pd.read_csv(file_path, sep=';', usecols=COLS, names=NAMES,\n",
    "                     encoding='latin-1', on_bad_lines='skip')\n",
    "    df.cnpj = df.cnpj.astype('int32')\n",
    "\n",
    "    dataframes.append(df)\n",
    "\n",
    "data = pd.concat(dataframes, ignore_index=True)\n",
    "data = data.dropna()\n",
    "\n",
    "data.to_parquet(OUTPUT_PATH, index=False)"
   ]
  },
  {
   "cell_type": "markdown",
   "metadata": {},
   "source": [
    "## EXPLORING THE DATA"
   ]
  },
  {
   "cell_type": "markdown",
   "metadata": {},
   "source": [
    "Loading the data and displaying the result:"
   ]
  },
  {
   "cell_type": "code",
   "execution_count": 4,
   "metadata": {},
   "outputs": [
    {
     "data": {
      "text/html": [
       "<div>\n",
       "<style scoped>\n",
       "    .dataframe tbody tr th:only-of-type {\n",
       "        vertical-align: middle;\n",
       "    }\n",
       "\n",
       "    .dataframe tbody tr th {\n",
       "        vertical-align: top;\n",
       "    }\n",
       "\n",
       "    .dataframe thead th {\n",
       "        text-align: right;\n",
       "    }\n",
       "</style>\n",
       "<table border=\"1\" class=\"dataframe\">\n",
       "  <thead>\n",
       "    <tr style=\"text-align: right;\">\n",
       "      <th></th>\n",
       "      <th>cnpj</th>\n",
       "      <th>name_partner</th>\n",
       "    </tr>\n",
       "  </thead>\n",
       "  <tbody>\n",
       "    <tr>\n",
       "      <th>0</th>\n",
       "      <td>66011180</td>\n",
       "      <td>CLAUDIO RONDINI</td>\n",
       "    </tr>\n",
       "    <tr>\n",
       "      <th>1</th>\n",
       "      <td>66011180</td>\n",
       "      <td>MARIA APARECIDA QUEIROZ RONDINI</td>\n",
       "    </tr>\n",
       "    <tr>\n",
       "      <th>2</th>\n",
       "      <td>85061877</td>\n",
       "      <td>RICARDO BAULE ROSSI</td>\n",
       "    </tr>\n",
       "    <tr>\n",
       "      <th>3</th>\n",
       "      <td>85061877</td>\n",
       "      <td>EDUARDO GUILHERME BAULE ROSSI</td>\n",
       "    </tr>\n",
       "    <tr>\n",
       "      <th>4</th>\n",
       "      <td>7428785</td>\n",
       "      <td>WENDER ALVES MOREIRA</td>\n",
       "    </tr>\n",
       "  </tbody>\n",
       "</table>\n",
       "</div>"
      ],
      "text/plain": [
       "       cnpj                     name_partner\n",
       "0  66011180                  CLAUDIO RONDINI\n",
       "1  66011180  MARIA APARECIDA QUEIROZ RONDINI\n",
       "2  85061877              RICARDO BAULE ROSSI\n",
       "3  85061877    EDUARDO GUILHERME BAULE ROSSI\n",
       "4   7428785             WENDER ALVES MOREIRA"
      ]
     },
     "execution_count": 4,
     "metadata": {},
     "output_type": "execute_result"
    }
   ],
   "source": [
    "partners = pd.read_parquet('../data/partners.parquet')\n",
    "\n",
    "partners.head()"
   ]
  }
 ],
 "metadata": {
  "kernelspec": {
   "display_name": "Python 3",
   "language": "python",
   "name": "python3"
  },
  "language_info": {
   "codemirror_mode": {
    "name": "ipython",
    "version": 3
   },
   "file_extension": ".py",
   "mimetype": "text/x-python",
   "name": "python",
   "nbconvert_exporter": "python",
   "pygments_lexer": "ipython3",
   "version": "3.12.8"
  }
 },
 "nbformat": 4,
 "nbformat_minor": 2
}
