{
 "cells": [
  {
   "cell_type": "markdown",
   "metadata": {},
   "source": [
    "# PRE-PROCESSING THE DATA"
   ]
  },
  {
   "cell_type": "markdown",
   "metadata": {},
   "source": [
    "## PREPARING THE ENVIRONMENT"
   ]
  },
  {
   "cell_type": "markdown",
   "metadata": {},
   "source": [
    "Importing the libraries:"
   ]
  },
  {
   "cell_type": "code",
   "execution_count": 1,
   "metadata": {},
   "outputs": [],
   "source": [
    "import pickle\n",
    "import sqlite3\n",
    "\n",
    "import pandas as pd"
   ]
  },
  {
   "cell_type": "markdown",
   "metadata": {},
   "source": [
    "Defining the constants:"
   ]
  },
  {
   "cell_type": "code",
   "execution_count": 2,
   "metadata": {},
   "outputs": [],
   "source": [
    "OUTPUT_PATH = '../data/estabelecimentos.db'\n",
    "\n",
    "CHUNKSIZE = 3000000\n",
    "\n",
    "COLS  = [0, 6, 10, 18]\n",
    "NAMES = ['cnpj',\n",
    "         'closing_date',\n",
    "         'opening_date',\n",
    "         'cep']"
   ]
  },
  {
   "cell_type": "markdown",
   "metadata": {},
   "source": [
    "Creating connections and loading data:"
   ]
  },
  {
   "cell_type": "code",
   "execution_count": 3,
   "metadata": {},
   "outputs": [],
   "source": [
    "conn   = sqlite3.connect('../data/estabelecimentos.db')\n",
    "cursor = conn.cursor()"
   ]
  },
  {
   "cell_type": "code",
   "execution_count": 4,
   "metadata": {},
   "outputs": [],
   "source": [
    "with open('../data/cnpj2id.pkl'   , 'rb') as f:\n",
    "    cnpj2id = pickle.load(f)\n",
    "\n",
    "id2cnpj = {v : k\n",
    "           for k, v in cnpj2id.items()}\n",
    "\n",
    "with open('../data/components.pkl', 'rb') as f:\n",
    "    components = pickle.load(f)\n",
    "\n",
    "\n",
    "cnpjs = [id2cnpj[v]\n",
    "         for component in components\n",
    "         for v in component]\n",
    "\n",
    "\n",
    "del cnpj2id\n",
    "del id2cnpj\n",
    "del components"
   ]
  },
  {
   "cell_type": "markdown",
   "metadata": {},
   "source": [
    "## PRE-PROCESSING THE DATA"
   ]
  },
  {
   "cell_type": "markdown",
   "metadata": {},
   "source": [
    "Pre-processing the data to unify the files and filter the columns of interest:"
   ]
  },
  {
   "cell_type": "code",
   "execution_count": 5,
   "metadata": {},
   "outputs": [
    {
     "name": "stdout",
     "output_type": "stream",
     "text": [
      "Reading ../data/estabelecimentos/estabelecimentos0.csv\n",
      "Reading ../data/estabelecimentos/estabelecimentos1.csv\n",
      "Reading ../data/estabelecimentos/estabelecimentos2.csv\n",
      "Reading ../data/estabelecimentos/estabelecimentos3.csv\n",
      "Reading ../data/estabelecimentos/estabelecimentos4.csv\n",
      "Reading ../data/estabelecimentos/estabelecimentos5.csv\n",
      "Reading ../data/estabelecimentos/estabelecimentos6.csv\n",
      "Reading ../data/estabelecimentos/estabelecimentos7.csv\n",
      "Reading ../data/estabelecimentos/estabelecimentos8.csv\n",
      "Reading ../data/estabelecimentos/estabelecimentos9.csv\n"
     ]
    }
   ],
   "source": [
    "for i in range(10):\n",
    "    file_path = f'../data/estabelecimentos/estabelecimentos{i}.csv'\n",
    "\n",
    "    print('Reading', file_path)\n",
    "\n",
    "    for chunk in pd.read_csv(file_path,\n",
    "                             sep=';',\n",
    "                             usecols=COLS,\n",
    "                             names=NAMES,\n",
    "                             chunksize=CHUNKSIZE,\n",
    "                             low_memory=False,\n",
    "                             encoding='latin-1',\n",
    "                             on_bad_lines='skip'):\n",
    "        chunk = chunk[chunk.cnpj.isin(cnpjs)]\n",
    "        chunk.cep = (\n",
    "            chunk.cep\n",
    "            .fillna('0')\n",
    "            .astype(str)\n",
    "            .str.replace('-', '', regex=True)\n",
    "            .astype(float)\n",
    "            .astype(int)\n",
    "        )\n",
    "\n",
    "        chunk.to_sql('estabelecimentos', conn, if_exists='append', index=False)\n",
    "\n",
    "        del chunk\n",
    "\n",
    "conn.close()"
   ]
  },
  {
   "cell_type": "markdown",
   "metadata": {},
   "source": [
    "## EXPLORING THE DATA"
   ]
  },
  {
   "cell_type": "markdown",
   "metadata": {},
   "source": [
    "Loading the data and displaying the result:"
   ]
  },
  {
   "cell_type": "code",
   "execution_count": 6,
   "metadata": {},
   "outputs": [
    {
     "name": "stdout",
     "output_type": "stream",
     "text": [
      "Reading ../data/estabelecimentos/estabelecimentos0.csv\n",
      "\n",
      "CNPJ         = 38086462 (38086462)\n",
      "Opening date = 20200813 (20200813)\n",
      "Closing date = 20210816 (20210816)\n",
      "CEP          = 15530000 (15530000)\n",
      "\n",
      "\n",
      "Reading ../data/estabelecimentos/estabelecimentos1.csv\n",
      "\n",
      "CNPJ         = 5060649 (5060649)\n",
      "Opening date = 20020425 (20020425)\n",
      "Closing date = 20210217 (20210217)\n",
      "CEP          = 6711500 (6711500)\n",
      "\n",
      "\n",
      "Reading ../data/estabelecimentos/estabelecimentos2.csv\n",
      "\n",
      "CNPJ         = 41995139 (41995139)\n",
      "Opening date = 20210518 (20210518)\n",
      "Closing date = 20210518 (20210518)\n",
      "CEP          = 3372000 (3372000)\n",
      "\n",
      "\n",
      "Reading ../data/estabelecimentos/estabelecimentos3.csv\n",
      "\n",
      "CNPJ         = 14522394 (14522394)\n",
      "Opening date = 20111025 (20111025)\n",
      "Closing date = 20240813 (20240813)\n",
      "CEP          = 21340360 (21340360)\n",
      "\n",
      "\n",
      "Reading ../data/estabelecimentos/estabelecimentos4.csv\n",
      "\n",
      "CNPJ         = 53666673 (53666673)\n",
      "Opening date = 19840728 (19840728)\n",
      "Closing date = 20051103 (20051103)\n",
      "CEP          = 4062003 (4062003)\n",
      "\n",
      "\n",
      "Reading ../data/estabelecimentos/estabelecimentos5.csv\n",
      "\n",
      "CNPJ         = 57163863 (57163863)\n",
      "Opening date = 20240905 (20240905)\n",
      "Closing date = 20240905 (20240905)\n",
      "CEP          = 89110022 (89110022)\n",
      "\n",
      "\n",
      "Reading ../data/estabelecimentos/estabelecimentos6.csv\n",
      "\n",
      "CNPJ         = 41077167 (41077167)\n",
      "Opening date = 20210303 (20210303)\n",
      "Closing date = 20210303 (20210303)\n",
      "CEP          = 69065000 (69065000)\n",
      "\n",
      "\n",
      "Reading ../data/estabelecimentos/estabelecimentos7.csv\n",
      "\n",
      "CNPJ         = 22779298 (22779298)\n",
      "Opening date = 20150703 (20150703)\n",
      "Closing date = 20150703 (20150703)\n",
      "CEP          = 1219001 (1219001)\n",
      "\n",
      "\n",
      "Reading ../data/estabelecimentos/estabelecimentos8.csv\n",
      "\n",
      "CNPJ         = 5935932 (5935932)\n",
      "Opening date = 20031008 (20031008)\n",
      "Closing date = 20150209 (20150209)\n",
      "CEP          = 2350002 (2350002)\n",
      "\n",
      "\n",
      "Reading ../data/estabelecimentos/estabelecimentos9.csv\n",
      "\n",
      "CNPJ         = 55716701 (55716701)\n",
      "Opening date = 20240628 (20240628)\n",
      "Closing date = 20240628 (20240628)\n",
      "CEP          = 1310200 (1310200)\n",
      "\n",
      "\n",
      "\n",
      "Database connection closed.\n"
     ]
    }
   ],
   "source": [
    "conn = sqlite3.connect(OUTPUT_PATH)\n",
    "\n",
    "try:\n",
    "    for i in range(10):\n",
    "        file_path = f'../data/estabelecimentos/estabelecimentos{i}.csv'\n",
    "\n",
    "        print('Reading', file_path)\n",
    "        print()\n",
    "\n",
    "        chunk = pd.read_csv(file_path,\n",
    "                            sep=';',\n",
    "                            usecols=COLS,\n",
    "                            names=NAMES,\n",
    "                            nrows=100000,\n",
    "                            low_memory=False,\n",
    "                            encoding='latin-1',\n",
    "                            on_bad_lines='skip')\n",
    "        chunk = chunk[chunk.cnpj.isin(cnpjs)]\n",
    "\n",
    "        data_df = chunk.sample(n=1).iloc[0]\n",
    "        cnpj = int(data_df.cnpj)\n",
    "        cldt = int(data_df.closing_date)\n",
    "        opdt = int(data_df.opening_date)\n",
    "        cep  = int(data_df.cep)\n",
    "\n",
    "        data_db = pd.read_sql_query(f\"\"\"SELECT *\n",
    "                                        FROM estabelecimentos\n",
    "                                        WHERE cnpj = '{cnpj}'\"\"\", conn)\n",
    "        if not data_db.empty:\n",
    "            data_db = data_db.iloc[0]\n",
    "\n",
    "            cnpj_db = data_db.cnpj\n",
    "            cldt_db = data_db.closing_date\n",
    "            opdt_db = data_db.opening_date\n",
    "            cep_db  = data_db.cep\n",
    "\n",
    "            print(f'CNPJ         = {cnpj} ({cnpj_db})')\n",
    "            print(f'Opening date = {opdt} ({opdt_db})')\n",
    "            print(f'Closing date = {cldt} ({cldt_db})')\n",
    "            print(f'CEP          = {cep } ({cep_db })')\n",
    "        else:\n",
    "            print(f'CNPJ {cnpj} not found in the database.')\n",
    "\n",
    "        print()\n",
    "        print()\n",
    "\n",
    "        del chunk\n",
    "finally:\n",
    "    conn.close()\n",
    "\n",
    "    print()\n",
    "    print('Database connection closed.')"
   ]
  }
 ],
 "metadata": {
  "kernelspec": {
   "display_name": "Python 3",
   "language": "python",
   "name": "python3"
  },
  "language_info": {
   "codemirror_mode": {
    "name": "ipython",
    "version": 3
   },
   "file_extension": ".py",
   "mimetype": "text/x-python",
   "name": "python",
   "nbconvert_exporter": "python",
   "pygments_lexer": "ipython3",
   "version": "3.12.8"
  }
 },
 "nbformat": 4,
 "nbformat_minor": 2
}
